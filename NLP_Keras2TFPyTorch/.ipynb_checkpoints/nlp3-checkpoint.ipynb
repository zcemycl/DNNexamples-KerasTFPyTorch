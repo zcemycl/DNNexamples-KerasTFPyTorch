{
 "cells": [
  {
   "cell_type": "code",
   "execution_count": 1,
   "metadata": {},
   "outputs": [],
   "source": [
    "import json\n",
    "import tensorflow as tf\n",
    "import csv\n",
    "import random\n",
    "import numpy as np\n",
    "import requests\n",
    "from contextlib import closing\n",
    "from tensorflow.keras.preprocessing.text import Tokenizer\n",
    "from tensorflow.keras.preprocessing.sequence import pad_sequences\n",
    "from tensorflow.keras.utils import to_categorical\n",
    "from tensorflow.keras import regularizers\n",
    "import matplotlib.image  as mpimg\n",
    "import matplotlib.pyplot as plt\n",
    "\n",
    "embedding_dim = 100\n",
    "max_length = 16\n",
    "trunc_type='post'\n",
    "padding_type='post'\n",
    "oov_tok = \"<OOV>\"\n",
    "training_size=160000\n",
    "test_portion=.1"
   ]
  },
  {
   "cell_type": "code",
   "execution_count": 2,
   "metadata": {},
   "outputs": [],
   "source": [
    "num_sentences = 0\n",
    "corpus = []\n",
    "with open(\"D:/44754/Documents/Data/training_cleaned.csv\", encoding=\"utf8\") as csvfile:\n",
    "    reader = csv.reader(csvfile, delimiter=',')\n",
    "    for row in reader:\n",
    "        list_item=[]\n",
    "        list_item.append(row[5])\n",
    "        this_label=row[0]\n",
    "        if this_label=='0':\n",
    "            list_item.append(0)\n",
    "        else:\n",
    "            list_item.append(1)\n",
    "        num_sentences = num_sentences + 1\n",
    "        corpus.append(list_item)"
   ]
  },
  {
   "cell_type": "code",
   "execution_count": 3,
   "metadata": {},
   "outputs": [
    {
     "name": "stdout",
     "output_type": "stream",
     "text": [
      "1600000\n",
      "1600000\n",
      "[\"is upset that he can't update his Facebook by texting it... and might cry as a result  School today also. Blah!\", 0]\n"
     ]
    }
   ],
   "source": [
    "print(num_sentences)\n",
    "print(len(corpus))\n",
    "print(corpus[1])\n",
    "\n",
    "# Expected Output:\n",
    "# 1600000\n",
    "# 1600000\n",
    "# [\"is upset that he can't update his Facebook by texting it... and might cry as a result  School today also. Blah!\", 0]"
   ]
  },
  {
   "cell_type": "code",
   "execution_count": 4,
   "metadata": {},
   "outputs": [],
   "source": [
    "sentences=[]\n",
    "labels=[]\n",
    "random.shuffle(corpus)\n",
    "for x in range(training_size):\n",
    "    sentences.append(corpus[x][0])\n",
    "    labels.append(corpus[x][1])\n",
    "\n",
    "\n",
    "tokenizer = Tokenizer()\n",
    "tokenizer.fit_on_texts(sentences)\n",
    "\n",
    "word_index = tokenizer.word_index\n",
    "vocab_size=len(word_index)\n",
    "\n",
    "sequences = tokenizer.texts_to_sequences(sentences)\n",
    "padded = pad_sequences(sequences, maxlen=max_length, padding=padding_type, truncating=trunc_type)\n",
    "\n",
    "split = int(test_portion * training_size)\n",
    "\n",
    "test_sequences = padded[0:split]\n",
    "training_sequences = padded[split:training_size]\n",
    "test_labels = labels[0:split]\n",
    "training_labels = labels[split:training_size]"
   ]
  },
  {
   "cell_type": "code",
   "execution_count": 5,
   "metadata": {},
   "outputs": [
    {
     "name": "stdout",
     "output_type": "stream",
     "text": [
      "138384\n",
      "1\n"
     ]
    }
   ],
   "source": [
    "print(vocab_size)\n",
    "print(word_index['i'])\n",
    "# Expected Output\n",
    "# 138858\n",
    "# 1"
   ]
  },
  {
   "cell_type": "code",
   "execution_count": 6,
   "metadata": {},
   "outputs": [],
   "source": [
    "url = 'https://storage.googleapis.com/laurencemoroney-blog.appspot.com/glove.6B.100d.txt'\n",
    "embeddings_index = {};\n",
    "with closing(requests.get(url, stream=True)) as r:\n",
    "    f = (line.decode('utf-8') for line in r.iter_lines())\n",
    "    for line in f:\n",
    "        values = line.split();\n",
    "        word = values[0];\n",
    "        coefs = np.asarray(values[1:], dtype='float32');\n",
    "        embeddings_index[word] = coefs;\n",
    "\n",
    "embeddings_matrix = np.zeros((vocab_size+1, embedding_dim));\n",
    "for word, i in word_index.items():\n",
    "    embedding_vector = embeddings_index.get(word);\n",
    "    if embedding_vector is not None:\n",
    "        embeddings_matrix[i] = embedding_vector;"
   ]
  },
  {
   "cell_type": "code",
   "execution_count": 7,
   "metadata": {
    "scrolled": true
   },
   "outputs": [
    {
     "name": "stdout",
     "output_type": "stream",
     "text": [
      "138385\n"
     ]
    }
   ],
   "source": [
    "print(len(embeddings_matrix))\n",
    "# Expected Output\n",
    "# 138859"
   ]
  },
  {
   "cell_type": "code",
   "execution_count": 33,
   "metadata": {},
   "outputs": [],
   "source": [
    "training_sequences = training_sequences.astype(float)\n",
    "training_labels = np.array(training_labels).astype(float)\n",
    "test_sequences = test_sequences.astype(float)\n",
    "test_labels = np.array(test_labels).astype(float)"
   ]
  },
  {
   "cell_type": "code",
   "execution_count": 32,
   "metadata": {},
   "outputs": [
    {
     "data": {
      "text/plain": [
       "numpy.float64"
      ]
     },
     "execution_count": 32,
     "metadata": {},
     "output_type": "execute_result"
    }
   ],
   "source": [
    "type(training_sequences[0][0])"
   ]
  },
  {
   "cell_type": "code",
   "execution_count": 34,
   "metadata": {
    "scrolled": true
   },
   "outputs": [
    {
     "name": "stdout",
     "output_type": "stream",
     "text": [
      "Model: \"sequential_5\"\n",
      "_________________________________________________________________\n",
      "Layer (type)                 Output Shape              Param #   \n",
      "=================================================================\n",
      "embedding_5 (Embedding)      (None, 16, 100)           13838500  \n",
      "_________________________________________________________________\n",
      "dropout_5 (Dropout)          (None, 16, 100)           0         \n",
      "_________________________________________________________________\n",
      "conv1d_5 (Conv1D)            (None, 12, 64)            32064     \n",
      "_________________________________________________________________\n",
      "max_pooling1d_5 (MaxPooling1 (None, 3, 64)             0         \n",
      "_________________________________________________________________\n",
      "lstm_5 (LSTM)                (None, 64)                33024     \n",
      "_________________________________________________________________\n",
      "dense_5 (Dense)              (None, 1)                 65        \n",
      "=================================================================\n",
      "Total params: 13,903,653\n",
      "Trainable params: 65,153\n",
      "Non-trainable params: 13,838,500\n",
      "_________________________________________________________________\n",
      "Train on 144000 samples, validate on 16000 samples\n",
      "Epoch 1/50\n",
      "144000/144000 - 26s - loss: 0.5688 - accuracy: 0.6978 - val_loss: 0.5340 - val_accuracy: 0.7283\n",
      "Epoch 2/50\n",
      "144000/144000 - 24s - loss: 0.5282 - accuracy: 0.7310 - val_loss: 0.5167 - val_accuracy: 0.7404\n",
      "Epoch 3/50\n",
      "144000/144000 - 24s - loss: 0.5121 - accuracy: 0.7434 - val_loss: 0.5296 - val_accuracy: 0.7279\n",
      "Epoch 4/50\n",
      "144000/144000 - 23s - loss: 0.5011 - accuracy: 0.7501 - val_loss: 0.5087 - val_accuracy: 0.7447\n",
      "Epoch 5/50\n",
      "144000/144000 - 23s - loss: 0.4928 - accuracy: 0.7558 - val_loss: 0.5193 - val_accuracy: 0.7458\n",
      "Epoch 6/50\n",
      "144000/144000 - 23s - loss: 0.4856 - accuracy: 0.7602 - val_loss: 0.5193 - val_accuracy: 0.7446\n",
      "Epoch 7/50\n",
      "144000/144000 - 23s - loss: 0.4790 - accuracy: 0.7643 - val_loss: 0.5051 - val_accuracy: 0.7519\n",
      "Epoch 8/50\n",
      "144000/144000 - 23s - loss: 0.4741 - accuracy: 0.7674 - val_loss: 0.5081 - val_accuracy: 0.7466\n",
      "Epoch 9/50\n",
      "144000/144000 - 23s - loss: 0.4697 - accuracy: 0.7705 - val_loss: 0.5103 - val_accuracy: 0.7455\n",
      "Epoch 10/50\n",
      "144000/144000 - 23s - loss: 0.4649 - accuracy: 0.7742 - val_loss: 0.5098 - val_accuracy: 0.7471\n",
      "Epoch 11/50\n",
      "144000/144000 - 23s - loss: 0.4611 - accuracy: 0.7765 - val_loss: 0.5078 - val_accuracy: 0.7494\n",
      "Epoch 12/50\n",
      "144000/144000 - 23s - loss: 0.4585 - accuracy: 0.7779 - val_loss: 0.5067 - val_accuracy: 0.7513\n",
      "Epoch 13/50\n",
      "144000/144000 - 23s - loss: 0.4560 - accuracy: 0.7789 - val_loss: 0.5131 - val_accuracy: 0.7475\n",
      "Epoch 14/50\n",
      "144000/144000 - 24s - loss: 0.4543 - accuracy: 0.7797 - val_loss: 0.5054 - val_accuracy: 0.7503\n",
      "Epoch 15/50\n",
      "144000/144000 - 23s - loss: 0.4503 - accuracy: 0.7827 - val_loss: 0.5124 - val_accuracy: 0.7477\n",
      "Epoch 16/50\n",
      "144000/144000 - 23s - loss: 0.4510 - accuracy: 0.7814 - val_loss: 0.5173 - val_accuracy: 0.7467\n",
      "Epoch 17/50\n",
      "144000/144000 - 23s - loss: 0.4479 - accuracy: 0.7849 - val_loss: 0.5108 - val_accuracy: 0.7477\n",
      "Epoch 18/50\n",
      "144000/144000 - 23s - loss: 0.4459 - accuracy: 0.7856 - val_loss: 0.5158 - val_accuracy: 0.7475\n",
      "Epoch 19/50\n",
      "144000/144000 - 23s - loss: 0.4443 - accuracy: 0.7865 - val_loss: 0.5200 - val_accuracy: 0.7467\n",
      "Epoch 20/50\n",
      "144000/144000 - 23s - loss: 0.4417 - accuracy: 0.7875 - val_loss: 0.5169 - val_accuracy: 0.7480\n",
      "Epoch 21/50\n",
      "144000/144000 - 23s - loss: 0.4417 - accuracy: 0.7882 - val_loss: 0.5154 - val_accuracy: 0.7519\n",
      "Epoch 22/50\n",
      "144000/144000 - 23s - loss: 0.4413 - accuracy: 0.7878 - val_loss: 0.5164 - val_accuracy: 0.7471\n",
      "Epoch 23/50\n",
      "144000/144000 - 23s - loss: 0.4404 - accuracy: 0.7877 - val_loss: 0.5170 - val_accuracy: 0.7486\n",
      "Epoch 24/50\n",
      "144000/144000 - 23s - loss: 0.4390 - accuracy: 0.7899 - val_loss: 0.5158 - val_accuracy: 0.7497\n",
      "Epoch 25/50\n",
      "144000/144000 - 22s - loss: 0.4377 - accuracy: 0.7894 - val_loss: 0.5176 - val_accuracy: 0.7505\n",
      "Epoch 26/50\n",
      "144000/144000 - 22s - loss: 0.4367 - accuracy: 0.7907 - val_loss: 0.5178 - val_accuracy: 0.7452\n",
      "Epoch 27/50\n",
      "144000/144000 - 22s - loss: 0.4373 - accuracy: 0.7906 - val_loss: 0.5199 - val_accuracy: 0.7497\n",
      "Epoch 28/50\n",
      "144000/144000 - 23s - loss: 0.4343 - accuracy: 0.7924 - val_loss: 0.5305 - val_accuracy: 0.7474\n",
      "Epoch 29/50\n",
      "144000/144000 - 23s - loss: 0.4352 - accuracy: 0.7918 - val_loss: 0.5188 - val_accuracy: 0.7458\n",
      "Epoch 30/50\n",
      "144000/144000 - 23s - loss: 0.4349 - accuracy: 0.7916 - val_loss: 0.5189 - val_accuracy: 0.7504\n",
      "Epoch 31/50\n",
      "144000/144000 - 22s - loss: 0.4351 - accuracy: 0.7917 - val_loss: 0.5261 - val_accuracy: 0.7462\n",
      "Epoch 32/50\n",
      "144000/144000 - 22s - loss: 0.4339 - accuracy: 0.7925 - val_loss: 0.5230 - val_accuracy: 0.7478\n",
      "Epoch 33/50\n",
      "144000/144000 - 22s - loss: 0.4319 - accuracy: 0.7938 - val_loss: 0.5202 - val_accuracy: 0.7513\n",
      "Epoch 34/50\n",
      "144000/144000 - 22s - loss: 0.4307 - accuracy: 0.7954 - val_loss: 0.5212 - val_accuracy: 0.7439\n",
      "Epoch 35/50\n",
      "144000/144000 - 21s - loss: 0.4316 - accuracy: 0.7931 - val_loss: 0.5305 - val_accuracy: 0.7482\n",
      "Epoch 36/50\n",
      "144000/144000 - 23s - loss: 0.4315 - accuracy: 0.7939 - val_loss: 0.5193 - val_accuracy: 0.7486\n",
      "Epoch 37/50\n",
      "144000/144000 - 23s - loss: 0.4311 - accuracy: 0.7945 - val_loss: 0.5240 - val_accuracy: 0.7460\n",
      "Epoch 38/50\n",
      "144000/144000 - 22s - loss: 0.4303 - accuracy: 0.7950 - val_loss: 0.5249 - val_accuracy: 0.7467\n",
      "Epoch 39/50\n",
      "144000/144000 - 22s - loss: 0.4301 - accuracy: 0.7946 - val_loss: 0.5309 - val_accuracy: 0.7482\n",
      "Epoch 40/50\n",
      "144000/144000 - 22s - loss: 0.4306 - accuracy: 0.7951 - val_loss: 0.5226 - val_accuracy: 0.7453\n",
      "Epoch 41/50\n",
      "144000/144000 - 21s - loss: 0.4295 - accuracy: 0.7957 - val_loss: 0.5251 - val_accuracy: 0.7461\n",
      "Epoch 42/50\n",
      "144000/144000 - 22s - loss: 0.4279 - accuracy: 0.7965 - val_loss: 0.5261 - val_accuracy: 0.7492\n",
      "Epoch 43/50\n",
      "144000/144000 - 22s - loss: 0.4284 - accuracy: 0.7962 - val_loss: 0.5311 - val_accuracy: 0.7478\n",
      "Epoch 44/50\n",
      "144000/144000 - 22s - loss: 0.4282 - accuracy: 0.7968 - val_loss: 0.5296 - val_accuracy: 0.7456\n",
      "Epoch 45/50\n",
      "144000/144000 - 22s - loss: 0.4279 - accuracy: 0.7960 - val_loss: 0.5267 - val_accuracy: 0.7478\n",
      "Epoch 46/50\n",
      "144000/144000 - 21s - loss: 0.4268 - accuracy: 0.7964 - val_loss: 0.5240 - val_accuracy: 0.7499\n",
      "Epoch 47/50\n",
      "144000/144000 - 20s - loss: 0.4271 - accuracy: 0.7969 - val_loss: 0.5209 - val_accuracy: 0.7472\n",
      "Epoch 48/50\n",
      "144000/144000 - 21s - loss: 0.4265 - accuracy: 0.7975 - val_loss: 0.5197 - val_accuracy: 0.7502\n",
      "Epoch 49/50\n",
      "144000/144000 - 28s - loss: 0.4265 - accuracy: 0.7973 - val_loss: 0.5249 - val_accuracy: 0.7474\n",
      "Epoch 50/50\n",
      "144000/144000 - 23s - loss: 0.4269 - accuracy: 0.7970 - val_loss: 0.5269 - val_accuracy: 0.7504\n",
      "Training Complete\n"
     ]
    }
   ],
   "source": [
    "model = tf.keras.Sequential([\n",
    "    tf.keras.layers.Embedding(vocab_size+1, embedding_dim, input_length=max_length, weights=[embeddings_matrix], trainable=False),\n",
    "    tf.keras.layers.Dropout(0.2),\n",
    "    tf.keras.layers.Conv1D(64, 5, activation='relu'),\n",
    "    tf.keras.layers.MaxPooling1D(pool_size=4),\n",
    "    tf.keras.layers.LSTM(64),\n",
    "    tf.keras.layers.Dense(1, activation='sigmoid')\n",
    "])\n",
    "model.compile(loss='binary_crossentropy',optimizer='adam',metrics=['accuracy'])\n",
    "model.summary()\n",
    "\n",
    "num_epochs = 50\n",
    "history = model.fit(training_sequences, training_labels, \n",
    "                    epochs=num_epochs, validation_data=(test_sequences, test_labels), verbose=2)\n",
    "\n",
    "print(\"Training Complete\")"
   ]
  },
  {
   "cell_type": "code",
   "execution_count": 37,
   "metadata": {},
   "outputs": [
    {
     "data": {
      "text/plain": [
       "<Figure size 432x288 with 0 Axes>"
      ]
     },
     "execution_count": 37,
     "metadata": {},
     "output_type": "execute_result"
    },
    {
     "data": {
      "image/png": "[encoded data removed]",
      "text/plain": [
       "<Figure size 432x288 with 1 Axes>"
      ]
     },
     "metadata": {
      "needs_background": "light"
     },
     "output_type": "display_data"
    },
    {
     "data": {
      "image/png": "[encoded data removed]",
      "text/plain": [
       "<Figure size 432x288 with 1 Axes>"
      ]
     },
     "metadata": {
      "needs_background": "light"
     },
     "output_type": "display_data"
    },
    {
     "data": {
      "text/plain": [
       "<Figure size 432x288 with 0 Axes>"
      ]
     },
     "metadata": {},
     "output_type": "display_data"
    }
   ],
   "source": [
    "#-----------------------------------------------------------\n",
    "# Retrieve a list of list results on training and test data\n",
    "# sets for each training epoch\n",
    "#-----------------------------------------------------------\n",
    "acc=history.history['accuracy']\n",
    "val_acc=history.history['val_accuracy']\n",
    "loss=history.history['loss']\n",
    "val_loss=history.history['val_loss']\n",
    "\n",
    "epochs=range(len(acc)) # Get number of epochs\n",
    "\n",
    "#------------------------------------------------\n",
    "# Plot training and validation accuracy per epoch\n",
    "#------------------------------------------------\n",
    "plt.plot(epochs, acc, 'r')\n",
    "plt.plot(epochs, val_acc, 'b')\n",
    "plt.title('Training and validation accuracy')\n",
    "plt.xlabel(\"Epochs\")\n",
    "plt.ylabel(\"Accuracy\")\n",
    "plt.legend([\"Accuracy\", \"Validation Accuracy\"])\n",
    "\n",
    "plt.figure()\n",
    "\n",
    "#------------------------------------------------\n",
    "# Plot training and validation loss per epoch\n",
    "#------------------------------------------------\n",
    "plt.plot(epochs, loss, 'r')\n",
    "plt.plot(epochs, val_loss, 'b')\n",
    "plt.title('Training and validation loss')\n",
    "plt.xlabel(\"Epochs\")\n",
    "plt.ylabel(\"Loss\")\n",
    "plt.legend([\"Loss\", \"Validation Loss\"])\n",
    "\n",
    "plt.figure()\n",
    "\n",
    "\n",
    "# Expected Output\n",
    "# A chart where the validation loss does not increase sharply!"
   ]
  },
  {
   "cell_type": "code",
   "execution_count": null,
   "metadata": {},
   "outputs": [],
   "source": []
  }
 ],
 "metadata": {
  "kernelspec": {
   "display_name": "Python 3",
   "language": "python",
   "name": "python3"
  },
  "language_info": {
   "codemirror_mode": {
    "name": "ipython",
    "version": 3
   },
   "file_extension": ".py",
   "mimetype": "text/x-python",
   "name": "python",
   "nbconvert_exporter": "python",
   "pygments_lexer": "ipython3",
   "version": "3.7.4"
  }
 },
 "nbformat": 4,
 "nbformat_minor": 2
}
