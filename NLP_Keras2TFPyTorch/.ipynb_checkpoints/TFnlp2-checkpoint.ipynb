{
 "cells": [
  {
   "cell_type": "code",
   "execution_count": 25,
   "metadata": {},
   "outputs": [],
   "source": [
    "import os\n",
    "import time\n",
    "import tensorflow as tf\n",
    "import numpy as np\n",
    "import csv\n",
    "import random\n",
    "from sklearn.utils import shuffle\n",
    "vocab_size = 1000\n",
    "embedding_dim = 16\n",
    "max_length = 120\n",
    "trunc_type='post'\n",
    "padding_type='post'\n",
    "oov_tok = \"<OOV>\"\n",
    "training_portion = .8"
   ]
  },
  {
   "cell_type": "code",
   "execution_count": 2,
   "metadata": {},
   "outputs": [
    {
     "name": "stdout",
     "output_type": "stream",
     "text": [
      "WARNING:tensorflow:From C:\\Users\\44754\\Anaconda3\\lib\\site-packages\\tensorflow_core\\python\\compat\\v2_compat.py:68: disable_resource_variables (from tensorflow.python.ops.variable_scope) is deprecated and will be removed in a future version.\n",
      "Instructions for updating:\n",
      "non-resource variables are not supported in the long term\n"
     ]
    }
   ],
   "source": [
    "from tensorflow.keras.preprocessing.text import Tokenizer\n",
    "from tensorflow.keras.preprocessing.sequence import pad_sequences\n",
    "import tensorflow.compat.v1 as tf\n",
    "tf.disable_v2_behavior() "
   ]
  },
  {
   "cell_type": "code",
   "execution_count": 3,
   "metadata": {},
   "outputs": [],
   "source": [
    "#Stopwords list from https://github.com/Yoast/YoastSEO.js/blob/develop/src/config/stopwords.js\n",
    "stopwords = [ \"a\", \"about\", \"above\", \"after\", \"again\", \"against\",\n",
    "             \"all\", \"am\", \"an\", \"and\", \"any\", \"are\", \"as\", \"at\", \n",
    "             \"be\", \"because\", \"been\", \"before\", \"being\", \"below\", \n",
    "             \"between\", \"both\", \"but\", \"by\", \"could\", \"did\", \"do\",\n",
    "             \"does\", \"doing\", \"down\", \"during\", \"each\", \"few\", \"for\", \n",
    "             \"from\", \"further\", \"had\", \"has\", \"have\", \"having\", \"he\", \n",
    "             \"he'd\", \"he'll\", \"he's\", \"her\", \"here\", \"here's\", \"hers\", \n",
    "             \"herself\", \"him\", \"himself\", \"his\", \"how\", \"how's\", \"i\",\n",
    "             \"i'd\", \"i'll\", \"i'm\", \"i've\", \"if\", \"in\", \"into\", \"is\", \"it\",\n",
    "             \"it's\", \"its\", \"itself\", \"let's\", \"me\", \"more\", \"most\", \"my\", \n",
    "             \"myself\", \"nor\", \"of\", \"on\", \"once\", \"only\", \"or\", \"other\",\n",
    "             \"ought\", \"our\", \"ours\", \"ourselves\", \"out\", \"over\", \"own\",\n",
    "             \"same\", \"she\", \"she'd\", \"she'll\", \"she's\", \"should\", \"so\",\n",
    "             \"some\", \"such\", \"than\", \"that\", \"that's\", \"the\", \"their\", \n",
    "             \"theirs\", \"them\", \"themselves\", \"then\", \"there\", \"there's\", \n",
    "             \"these\", \"they\", \"they'd\", \"they'll\", \"they're\", \"they've\", \n",
    "             \"this\", \"those\", \"through\", \"to\", \"too\", \"under\", \"until\", \n",
    "             \"up\", \"very\", \"was\", \"we\", \"we'd\", \"we'll\", \"we're\", \"we've\", \n",
    "             \"were\", \"what\", \"what's\", \"when\", \"when's\", \"where\", \"where's\", \n",
    "             \"which\", \"while\", \"who\", \"who's\", \"whom\", \"why\", \"why's\", \"with\",\n",
    "             \"would\", \"you\", \"you'd\", \"you'll\", \"you're\", \"you've\", \"your\",\n",
    "             \"yours\", \"yourself\", \"yourselves\" ]\n",
    "\n",
    "sentences = []; labels = []"
   ]
  },
  {
   "cell_type": "code",
   "execution_count": 4,
   "metadata": {
    "scrolled": true
   },
   "outputs": [],
   "source": [
    "with open('D:/44754/Documents/Data/bbc-text2.csv','r') as csvfile:\n",
    "    reader = csv.reader(csvfile,delimiter=',')\n",
    "    next(reader)\n",
    "    for row in reader:\n",
    "        labels.append(row[0])\n",
    "        sentence = row[1]\n",
    "        for word in stopwords:\n",
    "            token = \" \"+word+\" \"\n",
    "            sentence = sentence.replace(token,\" \")\n",
    "        sentences.append(sentence)"
   ]
  },
  {
   "cell_type": "code",
   "execution_count": 5,
   "metadata": {},
   "outputs": [],
   "source": [
    "train_size = int(len(sentences) * training_portion)\n",
    "train_sentences = sentences[:train_size]\n",
    "train_labels = labels[:train_size]\n",
    "validation_sentences = sentences[train_size:]\n",
    "validation_labels = labels[train_size:]\n",
    "\n",
    "tokenizer = Tokenizer(num_words = vocab_size, oov_token=oov_tok)\n",
    "tokenizer.fit_on_texts(train_sentences)\n",
    "word_index = tokenizer.word_index"
   ]
  },
  {
   "cell_type": "code",
   "execution_count": 6,
   "metadata": {},
   "outputs": [],
   "source": [
    "train_sequences = tokenizer.texts_to_sequences(train_sentences)\n",
    "train_padded = pad_sequences(train_sequences, padding=padding_type, maxlen=max_length)\n",
    "validation_sequences = tokenizer.texts_to_sequences(validation_sentences)\n",
    "validation_padded = pad_sequences(validation_sequences, padding=padding_type, maxlen=max_length)\n",
    "label_tokenizer = Tokenizer()\n",
    "label_tokenizer.fit_on_texts(labels)\n",
    "\n",
    "training_label_seq = np.array(label_tokenizer.texts_to_sequences(train_labels))\n",
    "validation_label_seq = np.array(label_tokenizer.texts_to_sequences(validation_labels))"
   ]
  },
  {
   "cell_type": "code",
   "execution_count": 7,
   "metadata": {},
   "outputs": [],
   "source": [
    "# Define the input function for training\n",
    "num_epochs = 30\n",
    "dataset = tf.data.Dataset.from_tensor_slices(\n",
    "    (train_padded, training_label_seq))"
   ]
  },
  {
   "cell_type": "code",
   "execution_count": 8,
   "metadata": {},
   "outputs": [],
   "source": [
    "training_one_hot = tf.keras.utils.to_categorical(training_label_seq)\n",
    "validation_one_hot = tf.keras.utils.to_categorical(validation_label_seq)"
   ]
  },
  {
   "cell_type": "code",
   "execution_count": 9,
   "metadata": {},
   "outputs": [],
   "source": [
    "def weight_variable(shape):\n",
    "    initial = tf.truncated_normal(shape, stddev=0.01)\n",
    "    return tf.Variable(initial)\n",
    "def bias_variable(shape):\n",
    "    initial = tf.constant(0.0, shape=shape)\n",
    "    return tf.Variable(initial)"
   ]
  },
  {
   "cell_type": "code",
   "execution_count": 13,
   "metadata": {},
   "outputs": [],
   "source": [
    "FCW1 = weight_variable([16,24])\n",
    "FCb1 = bias_variable([24])\n",
    "FCW2 = weight_variable([24,6])\n",
    "FCb2 = bias_variable([6])\n",
    "\n",
    "y_ = tf.placeholder(tf.float32,[None,6],name='y_')\n",
    "x = tf.placeholder(tf.int32,[None,max_length],name='x')\n",
    "# emb = tf.placeholder(tf.float32,[vocab_size,embedding_dim])\n",
    "# embeddings = tf.random_normal(shape=(vocab_size,embedding_dim))\n",
    "emb = tf.random_normal(shape=(vocab_size,embedding_dim))\n",
    "z = tf.nn.embedding_lookup(emb,x)\n",
    "z = tf.reduce_mean(z, axis=[1])\n",
    "z = tf.nn.relu(tf.matmul(z,FCW1)+FCb1)\n",
    "y = tf.nn.softmax(tf.matmul(z,FCW2)+FCb2)\n",
    "\n",
    "# define the loss function\n",
    "loss = tf.reduce_mean(-tf.reduce_sum(y_*tf.log(y),reduction_indices=[1]))\n",
    "correct_prediction = tf.equal(tf.argmax(y, 1), tf.argmax(y_, 1))\n",
    "accuracy = tf.reduce_mean(tf.cast(correct_prediction, tf.float32))\n",
    "# optimization\n",
    "train_step = tf.train.AdamOptimizer().minimize(loss)"
   ]
  },
  {
   "cell_type": "code",
   "execution_count": 28,
   "metadata": {},
   "outputs": [
    {
     "name": "stdout",
     "output_type": "stream",
     "text": [
      "(1780, 6)\n"
     ]
    }
   ],
   "source": [
    "a,b = shuffle(train_padded,training_one_hot)\n",
    "print(b.shape)"
   ]
  },
  {
   "cell_type": "code",
   "execution_count": 19,
   "metadata": {},
   "outputs": [
    {
     "data": {
      "text/plain": [
       "89.0"
      ]
     },
     "execution_count": 19,
     "metadata": {},
     "output_type": "execute_result"
    }
   ],
   "source": [
    "1780/20"
   ]
  },
  {
   "cell_type": "code",
   "execution_count": 29,
   "metadata": {},
   "outputs": [
    {
     "name": "stdout",
     "output_type": "stream",
     "text": [
      "step 0, training accuracy 0.148315\n",
      "step 1, training accuracy 0.238202\n",
      "step 2, training accuracy 0.226966\n",
      "step 3, training accuracy 0.238202\n",
      "step 4, training accuracy 0.238202\n",
      "step 5, training accuracy 0.226966\n",
      "step 6, training accuracy 0.247191\n",
      "step 7, training accuracy 0.238202\n",
      "step 8, training accuracy 0.226966\n",
      "step 9, training accuracy 0.238202\n",
      "step 10, training accuracy 0.226966\n",
      "step 11, training accuracy 0.226966\n",
      "step 12, training accuracy 0.226966\n",
      "step 13, training accuracy 0.244944\n",
      "step 14, training accuracy 0.226966\n",
      "step 15, training accuracy 0.238202\n",
      "step 16, training accuracy 0.238202\n",
      "step 17, training accuracy 0.226966\n",
      "step 18, training accuracy 0.220225\n",
      "step 19, training accuracy 0.226966\n",
      "step 20, training accuracy 0.226966\n",
      "step 21, training accuracy 0.244944\n",
      "step 22, training accuracy 0.226966\n",
      "step 23, training accuracy 0.226966\n",
      "step 24, training accuracy 0.224719\n",
      "step 25, training accuracy 0.238202\n",
      "step 26, training accuracy 0.226966\n",
      "step 27, training accuracy 0.226966\n",
      "step 28, training accuracy 0.226966\n",
      "step 29, training accuracy 0.226966\n",
      "step 30, training accuracy 0.238202\n",
      "step 31, training accuracy 0.238202\n",
      "step 32, training accuracy 0.226966\n",
      "step 33, training accuracy 0.213483\n",
      "step 34, training accuracy 0.238202\n",
      "step 35, training accuracy 0.226966\n",
      "step 36, training accuracy 0.226966\n",
      "step 37, training accuracy 0.226966\n",
      "step 38, training accuracy 0.226966\n",
      "step 39, training accuracy 0.226966\n",
      "step 40, training accuracy 0.238202\n",
      "step 41, training accuracy 0.226966\n",
      "step 42, training accuracy 0.226966\n",
      "step 43, training accuracy 0.226966\n",
      "step 44, training accuracy 0.226966\n",
      "step 45, training accuracy 0.226966\n",
      "step 46, training accuracy 0.238202\n",
      "step 47, training accuracy 0.226966\n",
      "step 48, training accuracy 0.226966\n",
      "step 49, training accuracy 0.226966\n"
     ]
    }
   ],
   "source": [
    "with tf.Session() as sess:\n",
    "    init = tf.global_variables_initializer()\n",
    "    sess.run(init)\n",
    "    emb0 = sess.run(embeddings)\n",
    "    for i in range(50):\n",
    "        train_padded,training_one_hot = shuffle(train_padded,training_one_hot)\n",
    "        train_accuracy = sess.run(accuracy,feed_dict={\n",
    "                x:validation_padded,y_:validation_one_hot})\n",
    "        print(\"step %d, training accuracy %g\" % (i, train_accuracy))\n",
    "        for j in range(89): # 1780/20\n",
    "            sess.run(train_step, feed_dict={x:train_padded[20*j:20*(j+1)],\n",
    "                                y_:training_one_hot[20*j:20*(j+1)]})"
   ]
  },
  {
   "cell_type": "code",
   "execution_count": null,
   "metadata": {},
   "outputs": [],
   "source": []
  }
 ],
 "metadata": {
  "kernelspec": {
   "display_name": "Python 3",
   "language": "python",
   "name": "python3"
  },
  "language_info": {
   "codemirror_mode": {
    "name": "ipython",
    "version": 3
   },
   "file_extension": ".py",
   "mimetype": "text/x-python",
   "name": "python",
   "nbconvert_exporter": "python",
   "pygments_lexer": "ipython3",
   "version": "3.7.4"
  }
 },
 "nbformat": 4,
 "nbformat_minor": 2
}
