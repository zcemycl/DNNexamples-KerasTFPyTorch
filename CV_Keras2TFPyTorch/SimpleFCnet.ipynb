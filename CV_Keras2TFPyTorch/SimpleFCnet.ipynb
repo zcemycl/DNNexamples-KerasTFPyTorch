{
 "cells": [
  {
   "cell_type": "code",
   "execution_count": 3,
   "metadata": {
    "scrolled": true
   },
   "outputs": [
    {
     "name": "stdout",
     "output_type": "stream",
     "text": [
      "Extracting MNIST_data/train-images-idx3-ubyte.gz\n",
      "Extracting MNIST_data/train-labels-idx1-ubyte.gz\n",
      "Extracting MNIST_data/t10k-images-idx3-ubyte.gz\n",
      "Extracting MNIST_data/t10k-labels-idx1-ubyte.gz\n"
     ]
    }
   ],
   "source": [
    "from __future__ import division, print_function, unicode_literals\n",
    "import tensorflow as tf\n",
    "from time import time\n",
    "batch_size = 100\n",
    "\n",
    "# Download the dataset\n",
    "from tensorflow.examples.tutorials.mnist import input_data\n",
    "mnist = input_data.read_data_sets(\"MNIST_data/\", one_hot=True)\n",
    "\n",
    "def weight_variable(shape):\n",
    "    initial = tf.truncated_normal(shape, stddev=0.01)\n",
    "    return tf.Variable(initial)\n",
    "def bias_variable(shape):\n",
    "    initial = tf.constant(0.0, shape=shape)\n",
    "    return tf.Variable(initial)\n",
    "\n",
    "# correct labels\n",
    "y_ = tf.placeholder(tf.float32, [None, 10])\n",
    "# input data\n",
    "x = tf.placeholder(tf.float32, [None, 784])\n",
    "\n",
    "# build the network\n",
    "keep_prob_input = tf.placeholder(tf.float32)\n",
    "keep_prob = tf.placeholder(tf.float32)\n",
    "W1 = weight_variable([784, 1200])\n",
    "b1 = bias_variable([1200])\n",
    "W2 = weight_variable([1200, 1200])\n",
    "b2 = bias_variable([1200])\n",
    "W3 = weight_variable([1200, 10])\n",
    "b3 = bias_variable([10])\n",
    "\n",
    "z = tf.nn.dropout(x, keep_prob=keep_prob_input)\n",
    "z = tf.nn.relu(tf.matmul(z, W1) + b1)\n",
    "z = tf.nn.dropout(z, keep_prob)\n",
    "z = tf.nn.relu(tf.matmul(z, W2) + b2)\n",
    "z = tf.nn.dropout(z, keep_prob)\n",
    "y = tf.nn.softmax(tf.matmul(z, W3) + b3)\n",
    "\n",
    "# define the loss function\n",
    "cross_entropy = tf.reduce_mean(-tf.reduce_sum(y_ * tf.log(y), reduction_indices=[1]))\n",
    "# define training step and accuracy\n",
    "train_step = tf.train.MomentumOptimizer(learning_rate=0.1, momentum=0.9).minimize(cross_entropy)\n",
    "correct_prediction = tf.equal(tf.argmax(y, 1), tf.argmax(y_, 1))\n",
    "accuracy = tf.reduce_mean(tf.cast(correct_prediction, tf.float32))"
   ]
  },
  {
   "cell_type": "code",
   "execution_count": 9,
   "metadata": {},
   "outputs": [
    {
     "name": "stdout",
     "output_type": "stream",
     "text": [
      "WARNING:tensorflow:From C:\\Users\\44754\\Anaconda3\\lib\\site-packages\\tensorflow_core\\python\\util\\tf_should_use.py:198: initialize_all_variables (from tensorflow.python.ops.variables) is deprecated and will be removed after 2017-03-02.\n",
      "Instructions for updating:\n",
      "Use `tf.global_variables_initializer` instead.\n",
      "Starting the training...\n",
      "step 0, training accuracy 0.12\n",
      "Validation accuracy improved: 0.0887.\n",
      "step 600, training accuracy 0.95\n",
      "Validation accuracy improved: 0.9541.\n",
      "step 1200, training accuracy 0.96\n",
      "Validation accuracy improved: 0.958.\n",
      "step 1800, training accuracy 0.97\n",
      "Validation accuracy improved: 0.9691.\n",
      "step 2400, training accuracy 0.1\n",
      "Validation accuracy was: 0.098. It was better before: 0.9691. \n",
      "The training took 49.1447 seconds.\n",
      "Best test accuracy: 0.9691\n"
     ]
    }
   ],
   "source": [
    "# initialize the graph\n",
    "init = tf.initialize_all_variables()\n",
    "sess = tf.Session()\n",
    "sess.run(init)\n",
    "\n",
    "# train\n",
    "print(\"Starting the training...\")\n",
    "start_time = time()\n",
    "best_accuracy = 0.0\n",
    "for i in range(int(20*60000/batch_size)):\n",
    "    input_images, correct_predictions = mnist.train.next_batch(batch_size)\n",
    "    if i % (60000/batch_size) == 0:\n",
    "        train_accuracy = sess.run(accuracy, feed_dict={\n",
    "            x: input_images, y_: correct_predictions, keep_prob_input: 1.0, keep_prob: 1.0})\n",
    "        print(\"step %d, training accuracy %g\" % (i, train_accuracy))\n",
    "        # validate\n",
    "        test_accuracy = sess.run(accuracy, feed_dict={\n",
    "            x: mnist.test.images, y_: mnist.test.labels, keep_prob_input: 1.0, keep_prob: 1.0})\n",
    "        if test_accuracy >= best_accuracy:\n",
    "            best_accuracy = test_accuracy\n",
    "            print(\"Validation accuracy improved: %g.\" % test_accuracy)\n",
    "        else:\n",
    "            print(\"Validation accuracy was: %g. It was better before: %g. \" \n",
    "                  % (test_accuracy, best_accuracy))\n",
    "            break\n",
    "    sess.run(train_step, feed_dict={x: input_images, y_: correct_predictions, keep_prob_input: 0.8, keep_prob: 0.5})\n",
    "print(\"The training took %.4f seconds.\" % (time() - start_time))\n",
    "\n",
    "# validate\n",
    "print(\"Best test accuracy: %g\" % best_accuracy)"
   ]
  },
  {
   "cell_type": "code",
   "execution_count": null,
   "metadata": {},
   "outputs": [],
   "source": []
  }
 ],
 "metadata": {
  "kernelspec": {
   "display_name": "Python 3",
   "language": "python",
   "name": "python3"
  },
  "language_info": {
   "codemirror_mode": {
    "name": "ipython",
    "version": 3
   },
   "file_extension": ".py",
   "mimetype": "text/x-python",
   "name": "python",
   "nbconvert_exporter": "python",
   "pygments_lexer": "ipython3",
   "version": "3.7.4"
  }
 },
 "nbformat": 4,
 "nbformat_minor": 2
}
