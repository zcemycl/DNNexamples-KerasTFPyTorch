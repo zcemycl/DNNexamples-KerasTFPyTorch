{
 "cells": [
  {
   "cell_type": "code",
   "execution_count": 6,
   "metadata": {
    "scrolled": true
   },
   "outputs": [
    {
     "name": "stdout",
     "output_type": "stream",
     "text": [
      "Extracting MNIST_data/train-images-idx3-ubyte.gz\n",
      "Extracting MNIST_data/train-labels-idx1-ubyte.gz\n",
      "Extracting MNIST_data/t10k-images-idx3-ubyte.gz\n",
      "Extracting MNIST_data/t10k-labels-idx1-ubyte.gz\n"
     ]
    }
   ],
   "source": [
    "from __future__ import division, print_function, unicode_literals\n",
    "import tensorflow as tf\n",
    "from time import time\n",
    "batch_size = 100\n",
    "\n",
    "# Download the dataset\n",
    "from tensorflow.examples.tutorials.mnist import input_data\n",
    "mnist = input_data.read_data_sets(\"MNIST_data/\", one_hot=True)\n",
    "\n",
    "def weight_variable(shape):\n",
    "    initial = tf.truncated_normal(shape, stddev=0.01)\n",
    "    return tf.Variable(initial)\n",
    "def bias_variable(shape):\n",
    "    initial = tf.constant(0.0, shape=shape)\n",
    "    return tf.Variable(initial)\n",
    "\n",
    "# correct labels\n",
    "y_ = tf.placeholder(tf.float32, [None, 10])\n",
    "# input data\n",
    "x = tf.placeholder(tf.float32, [None,28,28,1])"
   ]
  },
  {
   "cell_type": "code",
   "execution_count": 7,
   "metadata": {},
   "outputs": [],
   "source": [
    "# build the network\n",
    "keep_prob_input = tf.placeholder(tf.float32)\n",
    "keep_prob = tf.placeholder(tf.float32)\n",
    "CNW1 = weight_variable([2,2,1,64])\n",
    "CNb1 = bias_variable([64])\n",
    "CNW2 = weight_variable([2,2,64,32])\n",
    "CNb2 = bias_variable([32])\n",
    "FCW1 = weight_variable([1568,256])\n",
    "FCb1 = bias_variable([256])\n",
    "FCW2 = weight_variable([256,10])\n",
    "FCb2 = bias_variable([10])\n",
    "\n",
    "z = tf.nn.dropout(x, keep_prob=keep_prob_input)\n",
    "z = tf.nn.conv2d(z, CNW1, [1, 1, 1, 1], padding='SAME')\n",
    "z = tf.nn.relu(tf.nn.bias_add(z, CNb1))\n",
    "z = tf.nn.max_pool(z, ksize=[1,2,2,1], strides=[1,2,2,1],padding='SAME')\n",
    "z = tf.nn.dropout(z, keep_prob)\n",
    "z = tf.nn.conv2d(z, CNW2, [1, 1, 1, 1], padding='SAME')\n",
    "z = tf.nn.relu(tf.nn.bias_add(z, CNb2))\n",
    "z = tf.nn.max_pool(z, ksize=[1,2,2,1], strides=[1,2,2,1],padding='SAME')\n",
    "z = tf.nn.dropout(z, keep_prob)\n",
    "z = tf.reshape(z, [-1,7*7*32])\n",
    "z = tf.nn.relu(tf.matmul(z,FCW1) + FCb1)\n",
    "z = tf.nn.dropout(z, keep_prob)\n",
    "y = tf.nn.softmax(tf.matmul(z,FCW2) + FCb2)\n",
    "\n",
    "# define the loss function\n",
    "cross_entropy = tf.reduce_mean(-tf.reduce_sum(y_ * tf.log(y), reduction_indices=[1]))\n",
    "# define training step and accuracy\n",
    "train_step = tf.train.MomentumOptimizer(learning_rate=0.1, momentum=0.9).minimize(cross_entropy)\n",
    "correct_prediction = tf.equal(tf.argmax(y, 1), tf.argmax(y_, 1))\n",
    "accuracy = tf.reduce_mean(tf.cast(correct_prediction, tf.float32))"
   ]
  },
  {
   "cell_type": "code",
   "execution_count": 13,
   "metadata": {},
   "outputs": [
    {
     "name": "stdout",
     "output_type": "stream",
     "text": [
      "Starting the training...\n",
      "step 0, training accuracy 0.06\n",
      "Validation accuracy improved: 0.0977.\n",
      "step 600, training accuracy 0.66\n",
      "Validation accuracy improved: 0.7889.\n",
      "step 1200, training accuracy 0.91\n",
      "Validation accuracy improved: 0.8714.\n",
      "step 1800, training accuracy 0.1\n",
      "Validation accuracy was: 0.098. It was better before: 0.8714. \n",
      "The training took 137.6747 seconds.\n",
      "Best test accuracy: 0.8714\n"
     ]
    }
   ],
   "source": [
    "# initialize the graph\n",
    "init = tf.initialize_all_variables()\n",
    "sess = tf.Session()\n",
    "sess.run(init)\n",
    "\n",
    "# train\n",
    "print(\"Starting the training...\")\n",
    "start_time = time()\n",
    "best_accuracy = 0.0\n",
    "for i in range(int(20*60000/batch_size)):\n",
    "    input_images, correct_predictions = mnist.train.next_batch(batch_size)\n",
    "    input_images = input_images.reshape(-1,28,28,1)\n",
    "    if i % (60000/batch_size) == 0:\n",
    "        train_accuracy = sess.run(accuracy, feed_dict={\n",
    "            x: input_images, y_: correct_predictions, keep_prob_input: 1.0, keep_prob: 1.0})\n",
    "        print(\"step %d, training accuracy %g\" % (i, train_accuracy))\n",
    "        # validate\n",
    "        test_images = mnist.test.images.reshape(-1,28,28,1)\n",
    "        test_accuracy = sess.run(accuracy, feed_dict={\n",
    "            x: test_images, y_: mnist.test.labels, keep_prob_input: 1.0, keep_prob: 1.0})\n",
    "        if test_accuracy >= best_accuracy:\n",
    "            best_accuracy = test_accuracy\n",
    "            print(\"Validation accuracy improved: %g.\" % test_accuracy)\n",
    "        else:\n",
    "            print(\"Validation accuracy was: %g. It was better before: %g. \" \n",
    "                  % (test_accuracy, best_accuracy))\n",
    "            break\n",
    "    sess.run(train_step, feed_dict={x: input_images, y_: correct_predictions, keep_prob_input: 0.8, keep_prob: 0.5})\n",
    "print(\"The training took %.4f seconds.\" % (time() - start_time))\n",
    "\n",
    "# validate\n",
    "print(\"Best test accuracy: %g\" % best_accuracy)"
   ]
  },
  {
   "cell_type": "code",
   "execution_count": null,
   "metadata": {},
   "outputs": [],
   "source": []
  }
 ],
 "metadata": {
  "kernelspec": {
   "display_name": "Python 3",
   "language": "python",
   "name": "python3"
  },
  "language_info": {
   "codemirror_mode": {
    "name": "ipython",
    "version": 3
   },
   "file_extension": ".py",
   "mimetype": "text/x-python",
   "name": "python",
   "nbconvert_exporter": "python",
   "pygments_lexer": "ipython3",
   "version": "3.7.4"
  }
 },
 "nbformat": 4,
 "nbformat_minor": 2
}
