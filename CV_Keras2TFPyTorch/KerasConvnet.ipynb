{
 "cells": [
  {
   "cell_type": "code",
   "execution_count": 1,
   "metadata": {},
   "outputs": [
    {
     "name": "stderr",
     "output_type": "stream",
     "text": [
      "Using TensorFlow backend.\n"
     ]
    }
   ],
   "source": [
    "import json\n",
    "import tensorflow as tf\n",
    "import csv\n",
    "import random\n",
    "import numpy as np\n",
    "import requests\n",
    "import matplotlib.pyplot as plt\n",
    "from tensorflow import keras\n",
    "from keras.utils import np_utils\n",
    "from keras.datasets import mnist\n",
    "(trainx,trainy),(valx,valy) = mnist.load_data()"
   ]
  },
  {
   "cell_type": "code",
   "execution_count": 2,
   "metadata": {},
   "outputs": [],
   "source": [
    "trainx = trainx.reshape(-1,28,28,1).astype(float)/255.\n",
    "valx = valx.reshape(-1,28,28,1).astype(float)/255."
   ]
  },
  {
   "cell_type": "code",
   "execution_count": 4,
   "metadata": {},
   "outputs": [
    {
     "name": "stdout",
     "output_type": "stream",
     "text": [
      "WARNING:tensorflow:From C:\\Users\\44754\\Anaconda3\\lib\\site-packages\\tensorflow_core\\python\\ops\\resource_variable_ops.py:1630: calling BaseResourceVariable.__init__ (from tensorflow.python.ops.resource_variable_ops) with constraint is deprecated and will be removed in a future version.\n",
      "Instructions for updating:\n",
      "If using Keras pass *_constraint arguments to layers.\n",
      "Train on 60000 samples, validate on 10000 samples\n",
      "Epoch 1/5\n",
      "60000/60000 [==============================] - 51s 846us/sample - loss: 0.3948 - acc: 0.8726 - val_loss: 0.0841 - val_acc: 0.9740\n",
      "Epoch 2/5\n",
      "60000/60000 [==============================] - 56s 940us/sample - loss: 0.1640 - acc: 0.9489 - val_loss: 0.0523 - val_acc: 0.9819\n",
      "Epoch 3/5\n",
      "60000/60000 [==============================] - 64s 1ms/sample - loss: 0.1314 - acc: 0.9595 - val_loss: 0.0443 - val_acc: 0.9855\n",
      "Epoch 4/5\n",
      "60000/60000 [==============================] - 59s 987us/sample - loss: 0.1125 - acc: 0.9645 - val_loss: 0.0400 - val_acc: 0.9870\n",
      "Epoch 5/5\n",
      "60000/60000 [==============================] - 64s 1ms/sample - loss: 0.1051 - acc: 0.9667 - val_loss: 0.0338 - val_acc: 0.9896\n",
      "Training Complete\n"
     ]
    }
   ],
   "source": [
    "model = tf.keras.Sequential()\n",
    "model.add(tf.keras.layers.Convolution2D(64,2,1,'same',\n",
    "                    activation='relu',input_shape=(28,28,1)))\n",
    "model.add(tf.keras.layers.MaxPooling2D(pool_size=(2,2)))\n",
    "model.add(tf.keras.layers.Dropout(.5))\n",
    "model.add(tf.keras.layers.Convolution2D(32,2,1,'same',activation='relu'))\n",
    "model.add(tf.keras.layers.MaxPooling2D(pool_size=(2,2)))\n",
    "model.add(tf.keras.layers.Dropout(.5))\n",
    "\n",
    "model.add(tf.keras.layers.Flatten())\n",
    "model.add(tf.keras.layers.Dense(256,activation='relu'))\n",
    "model.add(tf.keras.layers.Dropout(.5))\n",
    "model.add(tf.keras.layers.Dense(10,activation='softmax'))\n",
    "model.compile(loss='sparse_categorical_crossentropy',\n",
    "              optimizer='adam',metrics=['accuracy'])\n",
    "history = model.fit(trainx, trainy, batch_size=32,\n",
    "        epochs=5, validation_data=(valx, valy), verbose=1)\n",
    "\n",
    "print(\"Training Complete\")"
   ]
  }
 ],
 "metadata": {
  "kernelspec": {
   "display_name": "Python 3",
   "language": "python",
   "name": "python3"
  },
  "language_info": {
   "codemirror_mode": {
    "name": "ipython",
    "version": 3
   },
   "file_extension": ".py",
   "mimetype": "text/x-python",
   "name": "python",
   "nbconvert_exporter": "python",
   "pygments_lexer": "ipython3",
   "version": "3.7.4"
  }
 },
 "nbformat": 4,
 "nbformat_minor": 2
}
