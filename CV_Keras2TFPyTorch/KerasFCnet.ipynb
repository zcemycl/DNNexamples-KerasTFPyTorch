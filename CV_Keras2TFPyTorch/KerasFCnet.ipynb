{
 "cells": [
  {
   "cell_type": "code",
   "execution_count": 1,
   "metadata": {},
   "outputs": [],
   "source": [
    "import json\n",
    "import tensorflow as tf\n",
    "import csv\n",
    "import random\n",
    "import numpy as np\n",
    "import requests\n",
    "import matplotlib.pyplot as plt"
   ]
  },
  {
   "cell_type": "code",
   "execution_count": 2,
   "metadata": {},
   "outputs": [
    {
     "name": "stderr",
     "output_type": "stream",
     "text": [
      "Using TensorFlow backend.\n"
     ]
    }
   ],
   "source": [
    "from tensorflow import keras\n",
    "from keras.datasets import mnist"
   ]
  },
  {
   "cell_type": "code",
   "execution_count": 3,
   "metadata": {
    "scrolled": true
   },
   "outputs": [],
   "source": [
    "(trainx,trainy),(valx,valy) = mnist.load_data()"
   ]
  },
  {
   "cell_type": "code",
   "execution_count": 4,
   "metadata": {},
   "outputs": [],
   "source": [
    "trainx = trainx.astype(float)/255.\n",
    "valx = valx.astype(float)/255."
   ]
  },
  {
   "cell_type": "code",
   "execution_count": 5,
   "metadata": {},
   "outputs": [
    {
     "name": "stdout",
     "output_type": "stream",
     "text": [
      "WARNING:tensorflow:From C:\\Users\\44754\\Anaconda3\\lib\\site-packages\\tensorflow_core\\python\\ops\\resource_variable_ops.py:1630: calling BaseResourceVariable.__init__ (from tensorflow.python.ops.resource_variable_ops) with constraint is deprecated and will be removed in a future version.\n",
      "Instructions for updating:\n",
      "If using Keras pass *_constraint arguments to layers.\n",
      "WARNING:tensorflow:From C:\\Users\\44754\\Anaconda3\\lib\\site-packages\\tensorflow_core\\python\\ops\\math_grad.py:1424: where (from tensorflow.python.ops.array_ops) is deprecated and will be removed in a future version.\n",
      "Instructions for updating:\n",
      "Use tf.where in 2.0, which has the same broadcast rule as np.where\n",
      "Train on 60000 samples, validate on 10000 samples\n",
      "Epoch 1/5\n",
      "60000/60000 [==============================] - 44s 739us/sample - loss: 2.5904 - acc: 0.4690 - val_loss: 1.2881 - val_acc: 0.9070\n",
      "Epoch 2/5\n",
      "60000/60000 [==============================] - 36s 594us/sample - loss: 2.1148 - acc: 0.5012 - val_loss: 1.5042 - val_acc: 0.8983\n",
      "Epoch 3/5\n",
      "60000/60000 [==============================] - 33s 558us/sample - loss: 2.1219 - acc: 0.4959 - val_loss: 1.3320 - val_acc: 0.9127\n",
      "Epoch 4/5\n",
      "60000/60000 [==============================] - 32s 541us/sample - loss: 2.1295 - acc: 0.4958 - val_loss: 1.3329 - val_acc: 0.9141\n",
      "Epoch 5/5\n",
      "60000/60000 [==============================] - 33s 557us/sample - loss: 2.1531 - acc: 0.4951 - val_loss: 1.4003 - val_acc: 0.9105\n",
      "Training Complete\n"
     ]
    }
   ],
   "source": [
    "model = tf.keras.Sequential()\n",
    "model.add(tf.keras.layers.Flatten(input_shape=(28,28)))\n",
    "model.add(tf.keras.layers.Dense(1200,activation='relu'))\n",
    "model.add(tf.keras.layers.Dropout(.5))\n",
    "model.add(tf.keras.layers.Dense(1200,activation='relu'))\n",
    "model.add(tf.keras.layers.Dropout(.5))\n",
    "model.add(tf.keras.layers.Dense(10,activation='softmax'))\n",
    "model.add(tf.keras.layers.Dropout(.5))\n",
    "model.compile(loss='sparse_categorical_crossentropy',\n",
    "              optimizer='adam',metrics=['accuracy'])\n",
    "history = model.fit(trainx, trainy, \n",
    "        epochs=5, validation_data=(valx, valy), verbose=1)\n",
    "\n",
    "print(\"Training Complete\")"
   ]
  },
  {
   "cell_type": "code",
   "execution_count": null,
   "metadata": {},
   "outputs": [],
   "source": []
  }
 ],
 "metadata": {
  "kernelspec": {
   "display_name": "Python 3",
   "language": "python",
   "name": "python3"
  },
  "language_info": {
   "codemirror_mode": {
    "name": "ipython",
    "version": 3
   },
   "file_extension": ".py",
   "mimetype": "text/x-python",
   "name": "python",
   "nbconvert_exporter": "python",
   "pygments_lexer": "ipython3",
   "version": "3.7.4"
  }
 },
 "nbformat": 4,
 "nbformat_minor": 2
}
