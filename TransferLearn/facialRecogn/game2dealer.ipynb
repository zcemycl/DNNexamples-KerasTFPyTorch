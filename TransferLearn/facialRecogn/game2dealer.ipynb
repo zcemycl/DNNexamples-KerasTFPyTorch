{
 "cells": [
  {
   "cell_type": "code",
   "execution_count": 1,
   "metadata": {},
   "outputs": [],
   "source": [
    "import numpy as np\n",
    "import os\n",
    "import matplotlib.pyplot as plt\n",
    "import pandas as pd\n",
    "import tqdm\n",
    "import glob"
   ]
  },
  {
   "cell_type": "code",
   "execution_count": 2,
   "metadata": {},
   "outputs": [],
   "source": [
    "vidDIR = \"C:/Users/Leo/Documents/dreamsAI/videos\""
   ]
  },
  {
   "cell_type": "code",
   "execution_count": 3,
   "metadata": {},
   "outputs": [
    {
     "data": {
      "text/html": [
       "<div>\n",
       "<style scoped>\n",
       "    .dataframe tbody tr th:only-of-type {\n",
       "        vertical-align: middle;\n",
       "    }\n",
       "\n",
       "    .dataframe tbody tr th {\n",
       "        vertical-align: top;\n",
       "    }\n",
       "\n",
       "    .dataframe thead th {\n",
       "        text-align: right;\n",
       "    }\n",
       "</style>\n",
       "<table border=\"1\" class=\"dataframe\">\n",
       "  <thead>\n",
       "    <tr style=\"text-align: right;\">\n",
       "      <th>25026</th>\n",
       "      <th>game_id</th>\n",
       "      <th>dealer_id</th>\n",
       "      <th>host_id (table)</th>\n",
       "      <th>scans (scanner:card_numer sequence)</th>\n",
       "    </tr>\n",
       "  </thead>\n",
       "  <tbody>\n",
       "    <tr>\n",
       "      <th>0</th>\n",
       "      <td>107819854831616</td>\n",
       "      <td>159</td>\n",
       "      <td>602</td>\n",
       "      <td>0:6;1:46;2:36;3:29;4:0</td>\n",
       "    </tr>\n",
       "    <tr>\n",
       "      <th>1</th>\n",
       "      <td>21820449656832</td>\n",
       "      <td>231</td>\n",
       "      <td>617</td>\n",
       "      <td>0:9;1:7;2:40;3:28</td>\n",
       "    </tr>\n",
       "    <tr>\n",
       "      <th>2</th>\n",
       "      <td>21820516765696</td>\n",
       "      <td>231</td>\n",
       "      <td>617</td>\n",
       "      <td>0:49;1:12;2:25;3:25;4:34;5:12</td>\n",
       "    </tr>\n",
       "    <tr>\n",
       "      <th>3</th>\n",
       "      <td>21820583874560</td>\n",
       "      <td>231</td>\n",
       "      <td>617</td>\n",
       "      <td>0:34;1:23;2:9;3:44</td>\n",
       "    </tr>\n",
       "    <tr>\n",
       "      <th>4</th>\n",
       "      <td>21820650983424</td>\n",
       "      <td>231</td>\n",
       "      <td>617</td>\n",
       "      <td>0:15;1:35;2:26;3:15;4:29;5:23</td>\n",
       "    </tr>\n",
       "  </tbody>\n",
       "</table>\n",
       "</div>"
      ],
      "text/plain": [
       "25026          game_id dealer_id host_id (table)  \\\n",
       "0      107819854831616       159             602   \n",
       "1       21820449656832       231             617   \n",
       "2       21820516765696       231             617   \n",
       "3       21820583874560       231             617   \n",
       "4       21820650983424       231             617   \n",
       "\n",
       "25026 scans (scanner:card_numer sequence)  \n",
       "0                  0:6;1:46;2:36;3:29;4:0  \n",
       "1                       0:9;1:7;2:40;3:28  \n",
       "2           0:49;1:12;2:25;3:25;4:34;5:12  \n",
       "3                      0:34;1:23;2:9;3:44  \n",
       "4           0:15;1:35;2:26;3:15;4:29;5:23  "
      ]
     },
     "execution_count": 3,
     "metadata": {},
     "output_type": "execute_result"
    }
   ],
   "source": [
    "xlsxDIR = os.path.join(os.getcwd(),'scan-cards-processed.xlsx')\n",
    "dfs = pd.read_excel(xlsxDIR)\n",
    "a = dfs.columns.copy()\n",
    "dfs.columns = dfs.iloc[-1].copy()\n",
    "dfs.iloc[-1] = a\n",
    "del dfs['remark']\n",
    "dfs.head()"
   ]
  },
  {
   "cell_type": "code",
   "execution_count": 4,
   "metadata": {
    "scrolled": true
   },
   "outputs": [
    {
     "data": {
      "text/html": [
       "<div>\n",
       "<style scoped>\n",
       "    .dataframe tbody tr th:only-of-type {\n",
       "        vertical-align: middle;\n",
       "    }\n",
       "\n",
       "    .dataframe tbody tr th {\n",
       "        vertical-align: top;\n",
       "    }\n",
       "\n",
       "    .dataframe thead th {\n",
       "        text-align: right;\n",
       "    }\n",
       "</style>\n",
       "<table border=\"1\" class=\"dataframe\">\n",
       "  <thead>\n",
       "    <tr style=\"text-align: right;\">\n",
       "      <th>25026</th>\n",
       "      <th>game_id</th>\n",
       "      <th>dealer_id</th>\n",
       "      <th>host_id (table)</th>\n",
       "      <th>scans (scanner:card_numer sequence)</th>\n",
       "    </tr>\n",
       "  </thead>\n",
       "  <tbody>\n",
       "    <tr>\n",
       "      <th>25022</th>\n",
       "      <td>128624810688512</td>\n",
       "      <td>818</td>\n",
       "      <td>616</td>\n",
       "      <td>0:2;1:37;2:29;3:23;4:1;5:37</td>\n",
       "    </tr>\n",
       "    <tr>\n",
       "      <th>25023</th>\n",
       "      <td>128624877797376</td>\n",
       "      <td>818</td>\n",
       "      <td>616</td>\n",
       "      <td>0:18;1:39;2:41;3:12;4:22</td>\n",
       "    </tr>\n",
       "    <tr>\n",
       "      <th>25024</th>\n",
       "      <td>128624944906240</td>\n",
       "      <td>818</td>\n",
       "      <td>616</td>\n",
       "      <td>0:14;1:44;2:27;3:3</td>\n",
       "    </tr>\n",
       "    <tr>\n",
       "      <th>25025</th>\n",
       "      <td>128625012015104</td>\n",
       "      <td>818</td>\n",
       "      <td>616</td>\n",
       "      <td>0:42;1:15;2:35;3:14;4:10</td>\n",
       "    </tr>\n",
       "    <tr>\n",
       "      <th>25026</th>\n",
       "      <td>109667764543488</td>\n",
       "      <td>64</td>\n",
       "      <td>610</td>\n",
       "      <td>0:14;1:50;2:16;3:37;4:23</td>\n",
       "    </tr>\n",
       "  </tbody>\n",
       "</table>\n",
       "</div>"
      ],
      "text/plain": [
       "25026          game_id dealer_id host_id (table)  \\\n",
       "25022  128624810688512       818             616   \n",
       "25023  128624877797376       818             616   \n",
       "25024  128624944906240       818             616   \n",
       "25025  128625012015104       818             616   \n",
       "25026  109667764543488        64             610   \n",
       "\n",
       "25026 scans (scanner:card_numer sequence)  \n",
       "25022         0:2;1:37;2:29;3:23;4:1;5:37  \n",
       "25023            0:18;1:39;2:41;3:12;4:22  \n",
       "25024                  0:14;1:44;2:27;3:3  \n",
       "25025            0:42;1:15;2:35;3:14;4:10  \n",
       "25026            0:14;1:50;2:16;3:37;4:23  "
      ]
     },
     "execution_count": 4,
     "metadata": {},
     "output_type": "execute_result"
    }
   ],
   "source": [
    "dfs.tail()"
   ]
  },
  {
   "cell_type": "code",
   "execution_count": 5,
   "metadata": {
    "scrolled": true
   },
   "outputs": [
    {
     "data": {
      "text/plain": [
       "[159]"
      ]
     },
     "execution_count": 5,
     "metadata": {},
     "output_type": "execute_result"
    }
   ],
   "source": [
    "a = dfs.index[dfs['game_id']==107819854831616].tolist()\n",
    "dfs['dealer_id'][a].tolist()"
   ]
  },
  {
   "cell_type": "code",
   "execution_count": 6,
   "metadata": {
    "scrolled": true
   },
   "outputs": [
    {
     "data": {
      "text/plain": [
       "0           0:6;1:46;2:36;3:29;4:0\n",
       "1                0:9;1:7;2:40;3:28\n",
       "2    0:49;1:12;2:25;3:25;4:34;5:12\n",
       "3               0:34;1:23;2:9;3:44\n",
       "4    0:15;1:35;2:26;3:15;4:29;5:23\n",
       "Name: scans (scanner:card_numer sequence), dtype: object"
      ]
     },
     "execution_count": 6,
     "metadata": {},
     "output_type": "execute_result"
    }
   ],
   "source": [
    "dfs[dfs.columns[3]].head()"
   ]
  },
  {
   "cell_type": "code",
   "execution_count": 8,
   "metadata": {},
   "outputs": [],
   "source": [
    "def deal2dealer(DIR,csvpd):\n",
    "    # list all un-filed video\n",
    "    allfiles = os.listdir(DIR)\n",
    "    mp4Name = [fname for fname in allfiles if fname.endswith('.mp4')]\n",
    "    for i in range(len(mp4Name)):\n",
    "        tmp_gameID = int(mp4Name[i].replace('.mp4',''))\n",
    "        row = csvpd.index[csvpd['game_id']==tmp_gameID].tolist()\n",
    "        tmp_dealerID = csvpd['dealer_id'][row].tolist()\n",
    "        dealerIDIR = os.path.join(DIR,str(tmp_dealerID[0]))\n",
    "        if not os.path.exists(dealerIDIR):\n",
    "            os.makedirs(dealerIDIR)\n",
    "        previousDIR = os.path.join(DIR,mp4Name[i])\n",
    "        newDIR = os.path.join(dealerIDIR,mp4Name[i])\n",
    "        os.rename(previousDIR,newDIR)\n",
    "        print(str(tmp_gameID)+': '+str(tmp_dealerID[0]))"
   ]
  },
  {
   "cell_type": "code",
   "execution_count": 9,
   "metadata": {},
   "outputs": [
    {
     "name": "stdout",
     "output_type": "stream",
     "text": [
      "107658055356416: 769\n",
      "107664028045312: 722\n",
      "107679328874496: 792\n",
      "107683623833600: 782\n",
      "107693019074560: 783\n",
      "107702816968704: 806\n",
      "107703420948480: 756\n",
      "107703488057344: 756\n",
      "107719996837888: 780\n",
      "107733955481600: 786\n",
      "107760866140160: 760\n",
      "107772677308416: 776\n",
      "107776972267520: 791\n",
      "107801601228800: 818\n",
      "107821465444352: 724\n",
      "107833008168960: 789\n",
      "107850590715904: 758\n",
      "107862334767104: 741\n",
      "108534899798016: 702\n",
      "108552549429248: 803\n",
      "108568252903424: 707\n",
      "108616504176640: 739\n",
      "108619255640064: 778\n",
      "108619322748928: 778\n",
      "109757958856704: 788\n",
      "117793104482304: 809\n",
      "117813304250368: 738\n",
      "117823236362240: 736\n",
      "117842496606208: 790\n",
      "117845180960768: 708\n",
      "129019276582912: 779\n",
      "129050683531264: 775\n",
      "129058602377216: 730\n",
      "129096451776512: 781\n",
      "129101216505856: 737\n",
      "21819644350464: 717\n",
      "21821926051840: 808\n",
      "21840246771712: 805\n"
     ]
    }
   ],
   "source": [
    "deal2dealer(vidDIR,dfs)"
   ]
  },
  {
   "cell_type": "code",
   "execution_count": 11,
   "metadata": {},
   "outputs": [
    {
     "data": {
      "text/plain": [
       "97"
      ]
     },
     "execution_count": 11,
     "metadata": {},
     "output_type": "execute_result"
    }
   ],
   "source": [
    "len(os.listdir(vidDIR))"
   ]
  },
  {
   "cell_type": "code",
   "execution_count": 12,
   "metadata": {},
   "outputs": [
    {
     "name": "stdout",
     "output_type": "stream",
     "text": [
      "107798044459008: 237\n",
      "108557045723136: 700\n"
     ]
    }
   ],
   "source": [
    "deal2dealer(vidDIR,dfs)"
   ]
  },
  {
   "cell_type": "code",
   "execution_count": null,
   "metadata": {},
   "outputs": [],
   "source": []
  }
 ],
 "metadata": {
  "kernelspec": {
   "display_name": "Python 3",
   "language": "python",
   "name": "python3"
  },
  "language_info": {
   "codemirror_mode": {
    "name": "ipython",
    "version": 3
   },
   "file_extension": ".py",
   "mimetype": "text/x-python",
   "name": "python",
   "nbconvert_exporter": "python",
   "pygments_lexer": "ipython3",
   "version": "3.7.4"
  }
 },
 "nbformat": 4,
 "nbformat_minor": 2
}
