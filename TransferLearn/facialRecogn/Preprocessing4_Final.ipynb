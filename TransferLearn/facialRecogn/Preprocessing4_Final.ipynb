{
 "cells": [
  {
   "cell_type": "code",
   "execution_count": 1,
   "metadata": {},
   "outputs": [],
   "source": [
    "import numpy as np\n",
    "import matplotlib.pyplot as plt\n",
    "import math\n",
    "import cv2\n",
    "import os\n",
    "import tqdm\n",
    "import glob\n",
    "from statistics import mode\n",
    "from sklearn.cluster import KMeans\n",
    "from sklearn.cluster import MeanShift"
   ]
  },
  {
   "cell_type": "code",
   "execution_count": 2,
   "metadata": {},
   "outputs": [],
   "source": [
    "def loadFileName(directory):\n",
    "    dealerIDir = glob.glob(directory+'/*')\n",
    "    allVidir = []\n",
    "    for i in range(len(dealerIDir)):\n",
    "        allVidir.append(glob.glob(dealerIDir[i]+'/*mp4'))\n",
    "    return np.array(allVidir)\n",
    "def eulidist(rectlist,center):\n",
    "    dx1_2 = (rectlist[0]-center[0])**2\n",
    "    dx2_2 = (rectlist[2]-center[0])**2\n",
    "    dy1_2 = (rectlist[1]-center[1])**2\n",
    "    dy2_2 = (rectlist[3]-center[1])**2\n",
    "    return dx1_2+dx2_2+dy1_2+dy2_2\n",
    "def selectFaces(faces,center):\n",
    "    disList = []\n",
    "    for i in range(len(faces)):\n",
    "        (x,y,w,h) = faces[i]\n",
    "        loc = np.array((x,y,x+w,y+h))\n",
    "        disList.append(eulidist(loc,center))\n",
    "    disList = np.array(disList)\n",
    "#     print(faces)\n",
    "    return faces[np.argmin(disList)]"
   ]
  },
  {
   "cell_type": "code",
   "execution_count": 3,
   "metadata": {},
   "outputs": [],
   "source": [
    "def extractFrame(mp4Dir):\n",
    "    vid = cv2.VideoCapture(mp4Dir)\n",
    "    allFrame = []\n",
    "    while vid.isOpened():\n",
    "        ret,frame = vid.read()\n",
    "        if ret:\n",
    "            allFrame.append(frame)\n",
    "        else:\n",
    "            break\n",
    "    return np.array(allFrame)\n",
    "def extractXYWH(allFrame):\n",
    "    face_cascade = cv2.CascadeClassifier('C:/Users/44754/Anaconda3/Lib/site-packages/cv2/data/haarcascade_frontalface_default.xml')\n",
    "    imgList = allFrame.copy()\n",
    "    for i in tqdm.tqdm(range(len(allFrame))):\n",
    "        img = imgList[i].copy()\n",
    "        gray = cv2.cvtColor(img,cv2.COLOR_BGR2GRAY)\n",
    "        faces = face_cascade.detectMultiScale(gray)\n",
    "        if not len(faces):\n",
    "            face = np.array((0,0,0,0))\n",
    "        else:\n",
    "            center = np.array(imgList[i][:,:,::-1].shape)[:2][::-1]/2\n",
    "            (x,y,w,h) = selectFaces(faces,center)\n",
    "            face = np.array((x,y,w,h))\n",
    "        if i == 0:\n",
    "            coorList = face\n",
    "        else:\n",
    "            coorList = np.vstack((coorList,face))\n",
    "    return coorList\n",
    "def meanShiftCluster(coorList):\n",
    "    ms = MeanShift(bandwidth=20)\n",
    "    ms.fit(coorList[:,:2])\n",
    "    labels = ms.labels_\n",
    "    remainIdx = mode(labels)\n",
    "    w = int(np.mean(coorList[labels==remainIdx,2]))\n",
    "    h = int(np.mean(coorList[labels==remainIdx,3]))\n",
    "    return labels,remainIdx,w,h\n",
    "def plotCluster(coorList,labels):\n",
    "    xmin,xmax = np.min(coorList[:,0]),np.max(coorList[:,0])\n",
    "    ymin,ymax = np.min(coorList[:,1]),np.max(coorList[:,1])\n",
    "    numCol = int(np.ceil((len(np.unique(labels))+1)/2))\n",
    "    plt.figure(figsize=(20,10))\n",
    "    plt.subplot(2,numCol,1)\n",
    "    plt.scatter(coorList[:,0],coorList[:,1],c=labels)\n",
    "    plt.xlim([xmin,xmax])\n",
    "    plt.ylim([ymin,ymax])\n",
    "    for i in range(len(np.unique(labels))):\n",
    "        plt.subplot(2,numCol,i+2)\n",
    "        plt.scatter(coorList[labels==i,0],coorList[labels==i,1])\n",
    "        plt.xlim([xmin,xmax])\n",
    "        plt.ylim([ymin,ymax])\n",
    "        plt.title(np.sum(labels==i))\n",
    "def modifyFrames(allFrame,labels,remainIdx,w,h):\n",
    "    imgList = allFrame.copy()\n",
    "    modList = []\n",
    "    for i in tqdm.tqdm(range(len(allFrame))):\n",
    "        img = imgList[i].copy()\n",
    "        if labels[i] == remainIdx:\n",
    "            x,y = coorList[i,0],coorList[i,1]\n",
    "            img = cv2.rectangle(img,(x,y),(x+w,y+h),(255,0,0),2)\n",
    "        modList.append(img)\n",
    "    modList = np.array(modList)\n",
    "    return modList"
   ]
  },
  {
   "cell_type": "code",
   "execution_count": 7,
   "metadata": {},
   "outputs": [],
   "source": [
    "def extractFaces(allFrame,coorList,labels,remainIdx,w,h):\n",
    "    imgList = allFrame.copy()\n",
    "    facesList = []\n",
    "    for i in range(len(allFrame)):\n",
    "        if labels[i] == remainIdx:\n",
    "            img = imgList[i].copy()\n",
    "            x,y = coorList[i,0],coorList[i,1]\n",
    "            tmp = img[y:y+h,x:x+w]\n",
    "            facesList.append(tmp)\n",
    "    facesList = np.array(facesList)\n",
    "    return facesList\n",
    "def dir2processedarr(mp4Dir):\n",
    "    allFrame  = extractFrame(mp4Dir)\n",
    "    print(allFrame.shape)\n",
    "    coorArr = extractXYWH(allFrame)\n",
    "    labels,remainIdx,w,h = meanShiftCluster(coorArr)\n",
    "    facesArr = extractFaces(allFrame,coorArr,labels,remainIdx,w,h)\n",
    "    return facesArr\n",
    "def storeProcessedImgs(directory):\n",
    "    currentdir = os.getcwd()\n",
    "    # create train dir\n",
    "    path = os.path.join(currentdir,'train')\n",
    "    if not os.path.exists(path):\n",
    "        os.makedirs(path)\n",
    "    \n",
    "    # list all IDs\n",
    "    dealersID = os.listdir(directory)\n",
    "    for i in range(len(dealersID)):\n",
    "        print('{} dealers'.format(i))\n",
    "        tmppath = os.path.join(path,dealersID[i])\n",
    "        if not os.path.exists(tmppath):\n",
    "            os.makedirs(tmppath)\n",
    "        dealDir = os.path.join(directory,dealersID[i])\n",
    "        vidsID = os.listdir(dealDir)\n",
    "        j = 0\n",
    "        # Each video for a specific dealer\n",
    "        for vid in vidsID:\n",
    "            mp4Dir = os.path.join(dealDir,vid)\n",
    "            tmparr = dir2processedarr(mp4Dir)\n",
    "            # saving\n",
    "            for k in range(tmparr.shape[0]):\n",
    "                savepath = os.path.join(tmppath,'{}.jpg'.format(j))\n",
    "                cv2.imwrite(savepath,tmparr[k])\n",
    "                j+=1"
   ]
  },
  {
   "cell_type": "code",
   "execution_count": 8,
   "metadata": {},
   "outputs": [
    {
     "name": "stdout",
     "output_type": "stream",
     "text": [
      "0 dealers\n",
      "(2085, 540, 1024, 3)\n"
     ]
    },
    {
     "name": "stderr",
     "output_type": "stream",
     "text": [
      "100%|██████████████████████████████████████████████████████████████████████████████| 2085/2085 [03:12<00:00, 10.83it/s]\n"
     ]
    },
    {
     "name": "stdout",
     "output_type": "stream",
     "text": [
      "(1631, 540, 1024, 3)\n"
     ]
    },
    {
     "name": "stderr",
     "output_type": "stream",
     "text": [
      "100%|██████████████████████████████████████████████████████████████████████████████| 1631/1631 [02:49<00:00,  9.63it/s]\n"
     ]
    },
    {
     "name": "stdout",
     "output_type": "stream",
     "text": [
      "(1988, 540, 1024, 3)\n"
     ]
    },
    {
     "name": "stderr",
     "output_type": "stream",
     "text": [
      "100%|██████████████████████████████████████████████████████████████████████████████| 1988/1988 [03:25<00:00,  9.67it/s]\n"
     ]
    },
    {
     "name": "stdout",
     "output_type": "stream",
     "text": [
      "(1256, 540, 1024, 3)\n"
     ]
    },
    {
     "name": "stderr",
     "output_type": "stream",
     "text": [
      "100%|██████████████████████████████████████████████████████████████████████████████| 1256/1256 [02:08<00:00,  9.78it/s]\n"
     ]
    },
    {
     "name": "stdout",
     "output_type": "stream",
     "text": [
      "(1990, 540, 1024, 3)\n"
     ]
    },
    {
     "name": "stderr",
     "output_type": "stream",
     "text": [
      "100%|██████████████████████████████████████████████████████████████████████████████| 1990/1990 [03:36<00:00,  9.20it/s]\n"
     ]
    },
    {
     "name": "stdout",
     "output_type": "stream",
     "text": [
      "(1221, 540, 1024, 3)\n"
     ]
    },
    {
     "name": "stderr",
     "output_type": "stream",
     "text": [
      "100%|██████████████████████████████████████████████████████████████████████████████| 1221/1221 [02:02<00:00,  9.99it/s]\n"
     ]
    },
    {
     "name": "stdout",
     "output_type": "stream",
     "text": [
      "(2025, 540, 1024, 3)\n"
     ]
    },
    {
     "name": "stderr",
     "output_type": "stream",
     "text": [
      "100%|██████████████████████████████████████████████████████████████████████████████| 2025/2025 [03:23<00:00,  9.94it/s]\n"
     ]
    },
    {
     "name": "stdout",
     "output_type": "stream",
     "text": [
      "(1260, 540, 1024, 3)\n"
     ]
    },
    {
     "name": "stderr",
     "output_type": "stream",
     "text": [
      "100%|██████████████████████████████████████████████████████████████████████████████| 1260/1260 [02:06<00:00,  9.96it/s]\n"
     ]
    },
    {
     "name": "stdout",
     "output_type": "stream",
     "text": [
      "(1240, 540, 1024, 3)\n"
     ]
    },
    {
     "name": "stderr",
     "output_type": "stream",
     "text": [
      "100%|██████████████████████████████████████████████████████████████████████████████| 1240/1240 [02:01<00:00, 10.23it/s]\n"
     ]
    },
    {
     "name": "stdout",
     "output_type": "stream",
     "text": [
      "(1668, 540, 1024, 3)\n"
     ]
    },
    {
     "name": "stderr",
     "output_type": "stream",
     "text": [
      "100%|██████████████████████████████████████████████████████████████████████████████| 1668/1668 [02:51<00:00,  9.75it/s]\n"
     ]
    },
    {
     "name": "stdout",
     "output_type": "stream",
     "text": [
      "1 dealers\n",
      "(1065, 540, 1024, 3)\n"
     ]
    },
    {
     "name": "stderr",
     "output_type": "stream",
     "text": [
      "100%|██████████████████████████████████████████████████████████████████████████████| 1065/1065 [02:18<00:00,  7.71it/s]\n"
     ]
    },
    {
     "name": "stdout",
     "output_type": "stream",
     "text": [
      "(972, 540, 1024, 3)\n"
     ]
    },
    {
     "name": "stderr",
     "output_type": "stream",
     "text": [
      "100%|████████████████████████████████████████████████████████████████████████████████| 972/972 [02:06<00:00,  7.70it/s]\n"
     ]
    },
    {
     "name": "stdout",
     "output_type": "stream",
     "text": [
      "(1037, 540, 1024, 3)\n"
     ]
    },
    {
     "name": "stderr",
     "output_type": "stream",
     "text": [
      "100%|██████████████████████████████████████████████████████████████████████████████| 1037/1037 [02:11<00:00,  7.87it/s]\n"
     ]
    },
    {
     "name": "stdout",
     "output_type": "stream",
     "text": [
      "(932, 540, 1024, 3)\n"
     ]
    },
    {
     "name": "stderr",
     "output_type": "stream",
     "text": [
      "100%|████████████████████████████████████████████████████████████████████████████████| 932/932 [01:59<00:00,  7.79it/s]\n"
     ]
    },
    {
     "name": "stdout",
     "output_type": "stream",
     "text": [
      "(897, 540, 1024, 3)\n"
     ]
    },
    {
     "name": "stderr",
     "output_type": "stream",
     "text": [
      "100%|████████████████████████████████████████████████████████████████████████████████| 897/897 [01:51<00:00,  8.06it/s]\n"
     ]
    },
    {
     "name": "stdout",
     "output_type": "stream",
     "text": [
      "(1052, 540, 1024, 3)\n"
     ]
    },
    {
     "name": "stderr",
     "output_type": "stream",
     "text": [
      "100%|██████████████████████████████████████████████████████████████████████████████| 1052/1052 [02:11<00:00,  8.01it/s]\n"
     ]
    },
    {
     "name": "stdout",
     "output_type": "stream",
     "text": [
      "(933, 540, 1024, 3)\n"
     ]
    },
    {
     "name": "stderr",
     "output_type": "stream",
     "text": [
      "100%|████████████████████████████████████████████████████████████████████████████████| 933/933 [01:54<00:00,  8.12it/s]\n"
     ]
    },
    {
     "name": "stdout",
     "output_type": "stream",
     "text": [
      "(912, 540, 1024, 3)\n"
     ]
    },
    {
     "name": "stderr",
     "output_type": "stream",
     "text": [
      "100%|████████████████████████████████████████████████████████████████████████████████| 912/912 [01:52<00:00,  8.11it/s]\n"
     ]
    },
    {
     "name": "stdout",
     "output_type": "stream",
     "text": [
      "(1020, 540, 1024, 3)\n"
     ]
    },
    {
     "name": "stderr",
     "output_type": "stream",
     "text": [
      "100%|██████████████████████████████████████████████████████████████████████████████| 1020/1020 [02:10<00:00,  7.84it/s]\n"
     ]
    },
    {
     "name": "stdout",
     "output_type": "stream",
     "text": [
      "(904, 540, 1024, 3)\n"
     ]
    },
    {
     "name": "stderr",
     "output_type": "stream",
     "text": [
      "100%|████████████████████████████████████████████████████████████████████████████████| 904/904 [01:53<00:00,  7.95it/s]\n"
     ]
    },
    {
     "name": "stdout",
     "output_type": "stream",
     "text": [
      "2 dealers\n",
      "(1668, 540, 1024, 3)\n"
     ]
    },
    {
     "name": "stderr",
     "output_type": "stream",
     "text": [
      "100%|██████████████████████████████████████████████████████████████████████████████| 1668/1668 [02:36<00:00, 10.68it/s]\n"
     ]
    },
    {
     "name": "stdout",
     "output_type": "stream",
     "text": [
      "(2033, 540, 1024, 3)\n"
     ]
    },
    {
     "name": "stderr",
     "output_type": "stream",
     "text": [
      "100%|██████████████████████████████████████████████████████████████████████████████| 2033/2033 [03:23<00:00,  9.97it/s]\n"
     ]
    },
    {
     "name": "stdout",
     "output_type": "stream",
     "text": [
      "(1235, 540, 1024, 3)\n"
     ]
    },
    {
     "name": "stderr",
     "output_type": "stream",
     "text": [
      "100%|██████████████████████████████████████████████████████████████████████████████| 1235/1235 [02:13<00:00,  9.22it/s]\n"
     ]
    },
    {
     "name": "stdout",
     "output_type": "stream",
     "text": [
      "(1668, 540, 1024, 3)\n"
     ]
    },
    {
     "name": "stderr",
     "output_type": "stream",
     "text": [
      "100%|██████████████████████████████████████████████████████████████████████████████| 1668/1668 [02:52<00:00,  9.65it/s]\n"
     ]
    },
    {
     "name": "stdout",
     "output_type": "stream",
     "text": [
      "(1979, 540, 1024, 3)\n"
     ]
    },
    {
     "name": "stderr",
     "output_type": "stream",
     "text": [
      "100%|██████████████████████████████████████████████████████████████████████████████| 1979/1979 [03:12<00:00, 10.30it/s]\n"
     ]
    },
    {
     "name": "stdout",
     "output_type": "stream",
     "text": [
      "(2260, 540, 1024, 3)\n"
     ]
    },
    {
     "name": "stderr",
     "output_type": "stream",
     "text": [
      "100%|██████████████████████████████████████████████████████████████████████████████| 2260/2260 [03:38<00:00, 10.34it/s]\n"
     ]
    },
    {
     "name": "stdout",
     "output_type": "stream",
     "text": [
      "(2063, 540, 1024, 3)\n"
     ]
    },
    {
     "name": "stderr",
     "output_type": "stream",
     "text": [
      "100%|██████████████████████████████████████████████████████████████████████████████| 2063/2063 [03:20<00:00, 10.31it/s]\n"
     ]
    },
    {
     "name": "stdout",
     "output_type": "stream",
     "text": [
      "(2248, 540, 1024, 3)\n"
     ]
    },
    {
     "name": "stderr",
     "output_type": "stream",
     "text": [
      "100%|██████████████████████████████████████████████████████████████████████████████| 2248/2248 [03:36<00:00, 10.36it/s]\n"
     ]
    },
    {
     "name": "stdout",
     "output_type": "stream",
     "text": [
      "(2068, 540, 1024, 3)\n"
     ]
    },
    {
     "name": "stderr",
     "output_type": "stream",
     "text": [
      "100%|██████████████████████████████████████████████████████████████████████████████| 2068/2068 [03:17<00:00, 10.48it/s]\n"
     ]
    },
    {
     "name": "stdout",
     "output_type": "stream",
     "text": [
      "(1679, 540, 1024, 3)\n"
     ]
    },
    {
     "name": "stderr",
     "output_type": "stream",
     "text": [
      "100%|██████████████████████████████████████████████████████████████████████████████| 1679/1679 [02:30<00:00, 11.13it/s]\n"
     ]
    },
    {
     "name": "stdout",
     "output_type": "stream",
     "text": [
      "3 dealers\n",
      "(1236, 540, 1024, 3)\n"
     ]
    },
    {
     "name": "stderr",
     "output_type": "stream",
     "text": [
      "100%|██████████████████████████████████████████████████████████████████████████████| 1236/1236 [01:51<00:00, 11.05it/s]\n"
     ]
    },
    {
     "name": "stdout",
     "output_type": "stream",
     "text": [
      "(809, 540, 1024, 3)\n"
     ]
    },
    {
     "name": "stderr",
     "output_type": "stream",
     "text": [
      "100%|████████████████████████████████████████████████████████████████████████████████| 809/809 [01:46<00:00,  7.61it/s]\n"
     ]
    },
    {
     "name": "stdout",
     "output_type": "stream",
     "text": [
      "(811, 540, 1024, 3)\n"
     ]
    },
    {
     "name": "stderr",
     "output_type": "stream",
     "text": [
      "100%|████████████████████████████████████████████████████████████████████████████████| 811/811 [01:44<00:00,  7.77it/s]\n"
     ]
    },
    {
     "name": "stdout",
     "output_type": "stream",
     "text": [
      "(928, 540, 1024, 3)\n"
     ]
    },
    {
     "name": "stderr",
     "output_type": "stream",
     "text": [
      "100%|████████████████████████████████████████████████████████████████████████████████| 928/928 [02:00<00:00,  7.69it/s]\n"
     ]
    },
    {
     "name": "stdout",
     "output_type": "stream",
     "text": [
      "(759, 540, 1024, 3)\n"
     ]
    },
    {
     "name": "stderr",
     "output_type": "stream",
     "text": [
      "100%|████████████████████████████████████████████████████████████████████████████████| 759/759 [01:35<00:00,  7.98it/s]\n"
     ]
    },
    {
     "name": "stdout",
     "output_type": "stream",
     "text": [
      "(1005, 540, 1024, 3)\n"
     ]
    },
    {
     "name": "stderr",
     "output_type": "stream",
     "text": [
      "100%|██████████████████████████████████████████████████████████████████████████████| 1005/1005 [02:05<00:00,  7.98it/s]\n"
     ]
    },
    {
     "name": "stdout",
     "output_type": "stream",
     "text": [
      "(945, 540, 1024, 3)\n"
     ]
    },
    {
     "name": "stderr",
     "output_type": "stream",
     "text": [
      "100%|████████████████████████████████████████████████████████████████████████████████| 945/945 [01:58<00:00,  7.95it/s]\n"
     ]
    },
    {
     "name": "stdout",
     "output_type": "stream",
     "text": [
      "(892, 540, 1024, 3)\n"
     ]
    },
    {
     "name": "stderr",
     "output_type": "stream",
     "text": [
      "100%|████████████████████████████████████████████████████████████████████████████████| 892/892 [01:52<00:00,  7.95it/s]\n"
     ]
    },
    {
     "name": "stdout",
     "output_type": "stream",
     "text": [
      "(745, 540, 1024, 3)\n"
     ]
    },
    {
     "name": "stderr",
     "output_type": "stream",
     "text": [
      "100%|████████████████████████████████████████████████████████████████████████████████| 745/745 [01:33<00:00,  7.95it/s]\n"
     ]
    },
    {
     "name": "stdout",
     "output_type": "stream",
     "text": [
      "(852, 540, 1024, 3)\n"
     ]
    },
    {
     "name": "stderr",
     "output_type": "stream",
     "text": [
      "100%|████████████████████████████████████████████████████████████████████████████████| 852/852 [01:46<00:00,  7.98it/s]\n"
     ]
    }
   ],
   "source": [
    "vidir = 'D:/DreamAI/videosubset'\n",
    "storeProcessedImgs(vidir)"
   ]
  },
  {
   "cell_type": "code",
   "execution_count": 15,
   "metadata": {},
   "outputs": [
    {
     "name": "stdout",
     "output_type": "stream",
     "text": [
      "Dealer 231: 15876\n",
      "Dealer 634: 8803\n",
      "Dealer 717: 16645\n",
      "Dealer 818: 5979\n"
     ]
    }
   ],
   "source": [
    "currentdir = os.getcwd()\n",
    "# create train dir\n",
    "path = os.path.join(currentdir,'train')\n",
    "# list all IDs\n",
    "dealersID = os.listdir(path)\n",
    "for ids in dealersID:\n",
    "    tmp = os.path.join(path,ids)\n",
    "    print('Dealer {}: '.format(ids)+str(len(glob.glob(tmp+'/*.jpg'))))"
   ]
  },
  {
   "cell_type": "markdown",
   "metadata": {},
   "source": [
    "### There are differences among the numbers of images for different dealers."
   ]
  },
  {
   "cell_type": "code",
   "execution_count": null,
   "metadata": {},
   "outputs": [],
   "source": []
  }
 ],
 "metadata": {
  "kernelspec": {
   "display_name": "Python 3",
   "language": "python",
   "name": "python3"
  },
  "language_info": {
   "codemirror_mode": {
    "name": "ipython",
    "version": 3
   },
   "file_extension": ".py",
   "mimetype": "text/x-python",
   "name": "python",
   "nbconvert_exporter": "python",
   "pygments_lexer": "ipython3",
   "version": "3.7.4"
  }
 },
 "nbformat": 4,
 "nbformat_minor": 2
}
