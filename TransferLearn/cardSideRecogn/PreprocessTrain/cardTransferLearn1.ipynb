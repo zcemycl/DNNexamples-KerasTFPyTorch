{
 "cells": [
  {
   "cell_type": "code",
   "execution_count": 1,
   "metadata": {},
   "outputs": [],
   "source": [
    "import numpy as np\n",
    "import os\n",
    "import tqdm\n",
    "import matplotlib.pyplot as plt\n",
    "import math\n",
    "import cv2\n",
    "import skimage\n",
    "import pandas as pd\n",
    "import torch\n",
    "import torch.nn as nn\n",
    "import torch.optim as optim\n",
    "from torch.optim import lr_scheduler\n",
    "import torchvision\n",
    "from torch.utils.data.dataset import Dataset\n",
    "from torchvision import datasets, models, transforms\n",
    "import torchvision.transforms.functional as TF\n",
    "import random\n",
    "import time\n",
    "import copy\n",
    "from torch.utils.data.sampler import SubsetRandomSampler\n",
    "from PIL import Image\n",
    "\n",
    "def extractFrame(mp4Dir):\n",
    "    vid = cv2.VideoCapture(mp4Dir)\n",
    "    allFrame = []\n",
    "    while vid.isOpened():\n",
    "        ret,frame = vid.read()\n",
    "        if ret:\n",
    "            dimx,dimy = frame.shape[:2]\n",
    "            allFrame.append(frame[int(dimx*.5):int(dimx*.8),\n",
    "                                 int(dimy*.3):int(dimy*.7)])\n",
    "        else:\n",
    "            break\n",
    "    return np.array(allFrame)\n",
    "def extractYellowMask(allFrame):\n",
    "    copyFrame = allFrame.copy()\n",
    "    hsv_y1 = np.asarray([20, 100, 100])   \n",
    "    hsv_y2 = np.asarray([30, 255, 255])   # yellow! note the order\n",
    "    maskYellow = []\n",
    "    for i in range(len(copyFrame)):\n",
    "        hsv = cv2.cvtColor(copyFrame[i], cv2.COLOR_BGR2HSV)\n",
    "        masky = cv2.inRange(hsv, hsv_y1, hsv_y2)\n",
    "        maskYellow.append(masky)\n",
    "    return maskYellow\n",
    "def extractYellow(img):\n",
    "    hsv = cv2.cvtColor(img[:,:,::-1], cv2.COLOR_BGR2HSV)\n",
    "    mask = cv2.inRange(hsv, (20, 100, 100), (30, 255, 255))\n",
    "    ## slice the yellow\n",
    "    imask = mask>0\n",
    "    return np.sum(imask)/len(imask.flatten())\n",
    "def extractGreen(img):\n",
    "    hsv = cv2.cvtColor(img[:,:,::-1], cv2.COLOR_BGR2HSV)\n",
    "#     mask = cv2.inRange(hsv, (36, 25, 25), (86, 255,255))\n",
    "    mask = cv2.inRange(hsv, (36, 25, 25), (70, 255,255))\n",
    "    ## slice the green\n",
    "    imask = mask>0\n",
    "    return np.sum(imask)/len(imask.flatten())\n",
    "def extractRed(img):\n",
    "    hsv = cv2.cvtColor(img[:,:,::-1], cv2.COLOR_BGR2HSV)\n",
    "    maskr1 = cv2.inRange(hsv, (0,50,20), (5,255,255))\n",
    "    maskr2 = cv2.inRange(hsv, (175,50,20), (180,255,255))\n",
    "    maskr = cv2.bitwise_or(maskr1, maskr2)\n",
    "    imask = maskr>0\n",
    "    return np.sum(imask)/len(imask.flatten())\n",
    "def preprocessingexcel():\n",
    "    dfs = pd.read_excel(\"D:/DreamAI/scan-cards-processed.xlsx\",\n",
    "                       header=None)\n",
    "    dfs.drop(dfs.tail(1).index,inplace=True)\n",
    "    del dfs[4]\n",
    "    return dfs\n",
    "def getMidLastYellowFrame(dataframe):\n",
    "    allDIR = 'D:/DreamAI/table'\n",
    "    allTableID = os.listdir(allDIR)\n",
    "    cropUVPix = np.array([[40,90,110,290],[32,80,110,290],[35,80,110,290],\n",
    "                     [35,80,115,295],[37,80,115,295],[35,80,110,290],\n",
    "                     [35,80,110,290],[35,80,110,290],[35,80,105,295],\n",
    "                     [35,80,110,295],[40,80,115,300],[35,80,115,300],\n",
    "                     [35,80,115,300],[30,80,115,300],[40,90,110,290],\n",
    "                     [35,85,110,295],[45,80,110,295],[37,70,110,295]])\n",
    "    \n",
    "    allLast,allMid,allYellow = [],[],[]\n",
    "    allLabels = []\n",
    "    for i in tqdm.tqdm(range(len(allTableID))):\n",
    "        tmpath = os.path.join(allDIR,allTableID[i])\n",
    "        tmpvidID = os.listdir(tmpath)\n",
    "        xi,xf,yi,yf = cropUVPix[i]\n",
    "        for j in tmpvidID:\n",
    "            tmpvidpath = os.path.join(tmpath,j)\n",
    "            allFrame = extractFrame(tmpvidpath)\n",
    "            noF = len(allFrame)\n",
    "            maskYellow=extractYellowMask(allFrame[:,xi:xf,yi:yf,:].copy())\n",
    "            allLast.append(allFrame[-1][xi:xf,yi:yf,::-1].copy())\n",
    "            allMid.append(allFrame[int(noF/2)][xi:xf,yi:yf,::-1].copy())\n",
    "            allYellow.append(np.mean(maskYellow[:int(noF*.4)],axis=0))\n",
    "            \n",
    "            tmpvidIDnew = j.replace('.mp4','')\n",
    "            tmpstr = dataframe.loc[dataframe[0]==int(tmpvidIDnew),3].values[0]\n",
    "            tmpstr2 = tmpstr.split(';')\n",
    "            allcardID = []\n",
    "            for k in range(len(tmpstr2)):\n",
    "                tmpstr3 = tmpstr2[k].split(':')\n",
    "                if int(tmpstr3[1])%13 >= 9:\n",
    "                    allcardID.append(str(9))\n",
    "                else:\n",
    "                    allcardID.append(str(int(tmpstr3[1])%13))\n",
    "            allLabels.append(allcardID)\n",
    "    return np.array(allLast),np.array(allMid),allYellow,allLabels\n",
    "def separateAreas(Last,Yellow):\n",
    "    xall,yall = np.where(Yellow>200) \n",
    "    xi,xf,yi,yf = xall.min(),xall.max(),yall.min(),yall.max()\n",
    "    Upper = Last[:xf+5,:,:].copy()\n",
    "    Lower = Last[xf+5:,:,:].copy()\n",
    "    yLen = Last.shape[1]\n",
    "    # Area 1: Top left, Area 2: Top right, Area 3: Bottom left\n",
    "    # Area 4: Bottom Right\n",
    "    Area1 = Upper[:,:int(yLen/2)-7,:].copy()\n",
    "    Area2 = Upper[:,int(yLen/2)+7:,:].copy()\n",
    "    Area3 = Lower[:,:int(yLen/2)-7,:].copy()\n",
    "    Area4 = Lower[:,int(yLen/2)+7:,:].copy()\n",
    "    return Area1,Area2,Area3,Area4\n",
    "def detectExtraCard(frameTL,frameTR):\n",
    "    threshL,threshR = .56,.7\n",
    "    RGa1 = extractGreen(frameTL)+extractRed(frameTL)\n",
    "    YGa2 = extractGreen(frameTR)+extractYellow(frameTR)\n",
    "    return RGa1<=threshL,YGa2<=threshR\n",
    "def cutoffGRYLR(frame,mode,thresh=.8): # cut off yellow,red,green\n",
    "    # mode 1: cut green, mode 2: cut red and green\n",
    "    # mode 3: cut yellow and green\n",
    "    profileLR,profileRL = [],[]\n",
    "    tmp = frame.copy()\n",
    "    for i in range(tmp.shape[1]):\n",
    "        tmpval = extractGreen(tmp[:,:i+1,::-1])\n",
    "        if mode == 2:\n",
    "            tmpval += extractRed(tmp[:,:i+1,::-1])\n",
    "        elif mode == 3:\n",
    "            tmpval += extractYellow(tmp[:,:i+1,::-1])\n",
    "        profileLR.append(tmpval)\n",
    "    profileLR = np.array(profileLR)\n",
    "    for i in range(tmp.shape[1]):\n",
    "        tmpval = extractGreen(tmp[:,-(i+1):,::-1])\n",
    "        if mode == 2:\n",
    "            tmpval += extractRed(tmp[:,:i+1,::-1])\n",
    "        elif mode == 3:\n",
    "            tmpval += extractYellow(tmp[:,:i+1,::-1])\n",
    "        profileRL.append(tmpval)\n",
    "    profileRL = np.array(profileRL)\n",
    "    \n",
    "    try:\n",
    "        leftix = profileLR[profileLR>thresh].argmin()\n",
    "    except:\n",
    "        leftix = []\n",
    "    \n",
    "    try:\n",
    "        rightix = profileRL[profileRL>thresh].argmin()\n",
    "    except:\n",
    "        rightix = []\n",
    "    \n",
    "    if leftix and rightix:\n",
    "        result = tmp[:,leftix+1:-(rightix+1),:]\n",
    "    elif not leftix and rightix:\n",
    "        result = tmp[:,:-(rightix+1),:]\n",
    "    elif leftix and not rightix:\n",
    "        result = tmp[:,leftix+1:,:]\n",
    "    elif not leftix and not rightix:\n",
    "        result = tmp\n",
    "    return result\n",
    "def extractAllCards(Last,Yellow):\n",
    "    a1,a2,a3,a4 = separateAreas(Last,Yellow)\n",
    "    Card4Bol,Card5Bol = detectExtraCard(a1,a2)\n",
    "    Card4 = cutoffGRYLR(a1,mode=2,thresh=.7)\n",
    "    Card5 = cutoffGRYLR(a2,mode=2,thresh=.7)\n",
    "    BL,BR = cutoffGRYLR(a3,mode=1),cutoffGRYLR(a4,mode=1)\n",
    "    dyBL,dyBR = BL.shape[1],BR.shape[1]\n",
    "    Card0,Card1=a3[:,:int(dyBL/2)+5,:],a3[:,int(dyBL/2)+10:,:]\n",
    "    Card2,Card3=a4[:,:int(dyBR/2)+5,:],a4[:,int(dyBR/2)+10:,:]\n",
    "    return Card0,Card1,Card2,Card3,Card4,Card5,Card4Bol,Card5Bol\n",
    "def rearrangeData(allLast,allYellow,allLabel):\n",
    "    cardsCollection,labelsCollection = [],[]\n",
    "    for ix in range(len(allLast)):\n",
    "        c0,c1,c2,c3,c4,c5,c4bol,c5bol=extractAllCards(allLast[ix],\n",
    "                                            allYellow[ix])\n",
    "        for i in range(4):\n",
    "            exec('cardsCollection.append(c{})'.format(i))\n",
    "            exec('labelsCollection.append(allLabel[ix][{}])'.format(i))    \n",
    "        cardsCollection.append(c4);cardsCollection.append(c5)\n",
    "        if c4bol and c5bol:\n",
    "            labelsCollection.append(allLabel[ix][4])\n",
    "            labelsCollection.append(allLabel[ix][5])\n",
    "        elif c4bol and not c5bol:\n",
    "            labelsCollection.append(allLabel[ix][4])\n",
    "            labelsCollection.append('10')\n",
    "        elif not c4bol and c5bol:\n",
    "            labelsCollection.append('10')\n",
    "            labelsCollection.append(allLabel[ix][4])\n",
    "        elif not c4bol and not c5bol:\n",
    "            labelsCollection.append('10')\n",
    "            labelsCollection.append('10')     \n",
    "    return cardsCollection,labelsCollection"
   ]
  },
  {
   "cell_type": "code",
   "execution_count": 2,
   "metadata": {
    "scrolled": true
   },
   "outputs": [
    {
     "name": "stderr",
     "output_type": "stream",
     "text": [
      "100%|██████████████████████████████████████████████████████████████████████████████████| 16/16 [01:06<00:00,  4.13s/it]\n"
     ]
    }
   ],
   "source": [
    "dfs = preprocessingexcel()\n",
    "allLast,allMid,allYellow,allLabel = getMidLastYellowFrame(dfs)\n",
    "cardsCollection,labelsCollection = rearrangeData(allLast,allYellow,allLabel)"
   ]
  },
  {
   "cell_type": "code",
   "execution_count": 3,
   "metadata": {},
   "outputs": [],
   "source": [
    "cardsCollection = np.array(cardsCollection)\n",
    "labelsCollection =  np.array(labelsCollection)"
   ]
  },
  {
   "cell_type": "code",
   "execution_count": 4,
   "metadata": {
    "scrolled": true
   },
   "outputs": [
    {
     "name": "stdout",
     "output_type": "stream",
     "text": [
      "192 192\n"
     ]
    }
   ],
   "source": [
    "print(len(cardsCollection),len(labelsCollection)) # sanity check"
   ]
  },
  {
   "cell_type": "code",
   "execution_count": 5,
   "metadata": {},
   "outputs": [
    {
     "data": {
      "text/plain": [
       "array(['0', '1', '10', '2', '3', '4', '5', '6', '7', '8', '9'],\n",
       "      dtype='<U2')"
      ]
     },
     "execution_count": 5,
     "metadata": {},
     "output_type": "execute_result"
    }
   ],
   "source": [
    "np.unique(labelsCollection)"
   ]
  },
  {
   "cell_type": "code",
   "execution_count": 6,
   "metadata": {},
   "outputs": [
    {
     "data": {
      "text/plain": [
       "11"
      ]
     },
     "execution_count": 6,
     "metadata": {},
     "output_type": "execute_result"
    }
   ],
   "source": [
    "len(np.unique(labelsCollection))"
   ]
  },
  {
   "cell_type": "markdown",
   "metadata": {},
   "source": [
    "#### Transfer Learning part"
   ]
  },
  {
   "cell_type": "code",
   "execution_count": 7,
   "metadata": {},
   "outputs": [],
   "source": [
    "class MyRotationTransform:\n",
    "    \"\"\"Rotate by one of the given angles.\"\"\"\n",
    "\n",
    "    def __init__(self, angles):\n",
    "        self.angles = angles\n",
    "\n",
    "    def __call__(self, x):\n",
    "        angle = random.choice(self.angles)\n",
    "        return TF.rotate(x, angle)\n",
    "\n",
    "rotation_transform = MyRotationTransform(angles=[-90, 0, 90, 180])"
   ]
  },
  {
   "cell_type": "code",
   "execution_count": 8,
   "metadata": {},
   "outputs": [],
   "source": [
    "transformations = transforms.Compose([\n",
    "        transforms.Resize((224,224)), \n",
    "        rotation_transform,\n",
    "        transforms.ToTensor(),\n",
    "        transforms.Normalize([0.485, 0.456, 0.406], [0.229, 0.224, 0.225])\n",
    "    ])"
   ]
  },
  {
   "cell_type": "code",
   "execution_count": 9,
   "metadata": {},
   "outputs": [
    {
     "name": "stdout",
     "output_type": "stream",
     "text": [
      "9\n"
     ]
    },
    {
     "name": "stderr",
     "output_type": "stream",
     "text": [
      "Clipping input data to the valid range for imshow with RGB data ([0..1] for floats or [0..255] for integers).\n"
     ]
    },
    {
     "data": {
      "text/plain": [
       "<matplotlib.image.AxesImage at 0x2459620f448>"
      ]
     },
     "execution_count": 9,
     "metadata": {},
     "output_type": "execute_result"
    },
    {
     "data": {
      "image/png": "[encoded data removed]",
      "text/plain": [
       "<Figure size 432x288 with 1 Axes>"
      ]
     },
     "metadata": {
      "needs_background": "light"
     },
     "output_type": "display_data"
    }
   ],
   "source": [
    "print(int(labelsCollection[0]))\n",
    "tmp = Image.fromarray(cardsCollection[0][:,:,::-1])\n",
    "plt.imshow(np.transpose(transformations(tmp).numpy(),(2,1,0)))"
   ]
  },
  {
   "cell_type": "code",
   "execution_count": 10,
   "metadata": {},
   "outputs": [],
   "source": [
    "class CustomDatasetFrom(Dataset): # input np arrays\n",
    "    def __init__(self,nparray,labarray,nblabels,transform=None):\n",
    "        self.data = nparray\n",
    "        self.label = labarray\n",
    "        self.nlabels = nblabels\n",
    "        self.transforms = transform\n",
    "    def __getitem__(self,index):\n",
    "        img_as_np = self.data[index]\n",
    "        img_as_img = Image.fromarray(img_as_np)\n",
    "        if self.transforms is not None:\n",
    "            img_as_tensor = self.transforms(img_as_img)\n",
    "        \n",
    "        y=torch.tensor(np.array([[int(self.label[index])]]),dtype=torch.long)   \n",
    "        \n",
    "        return img_as_tensor, y\n",
    "    def __len__(self):\n",
    "        return self.data.shape[0]"
   ]
  },
  {
   "cell_type": "markdown",
   "metadata": {},
   "source": [
    "Since the cardCollection array has image arrays with different sizes, in the transform resize part, we need to specify both dimensions from 224 to (224,224)."
   ]
  },
  {
   "cell_type": "code",
   "execution_count": 11,
   "metadata": {},
   "outputs": [],
   "source": [
    "nb_labels = 11"
   ]
  },
  {
   "cell_type": "code",
   "execution_count": 12,
   "metadata": {},
   "outputs": [],
   "source": [
    "custom_data_from_nparr=CustomDatasetFrom(cardsCollection,labelsCollection,\n",
    "                                         nb_labels ,transformations)\n",
    "dataloaders = torch.utils.data.DataLoader(custom_data_from_nparr, batch_size=4,\n",
    "                                    shuffle=True, num_workers=0)\n",
    "device = torch.device(\"cuda:0\" if torch.cuda.is_available() else \"cpu\")"
   ]
  },
  {
   "cell_type": "code",
   "execution_count": 14,
   "metadata": {},
   "outputs": [],
   "source": [
    "validation_split = .05\n",
    "\n",
    "# Creating data indices for training and validation splits:\n",
    "dataset_size = len(custom_data_from_nparr)\n",
    "indices = list(range(dataset_size))\n",
    "split = int(np.floor(validation_split * dataset_size))\n",
    "\n",
    "train_indices, val_indices = indices[split:], indices[:split]\n",
    "\n",
    "# Creating PT data samplers and loaders:\n",
    "train_sampler = SubsetRandomSampler(train_indices)\n",
    "valid_sampler = SubsetRandomSampler(val_indices)\n",
    "\n",
    "train_loader = torch.utils.data.DataLoader(custom_data_from_nparr, batch_size=4, \n",
    "                                          sampler=train_sampler, num_workers=0)\n",
    "validation_loader = torch.utils.data.DataLoader(custom_data_from_nparr, batch_size=4,\n",
    "                                          sampler=valid_sampler, num_workers=0)\n"
   ]
  },
  {
   "cell_type": "code",
   "execution_count": 82,
   "metadata": {},
   "outputs": [],
   "source": [
    "def train_model(model, criterion, optimizer, scheduler, num_epochs=25):\n",
    "    since = time.time()\n",
    "\n",
    "    best_model_wts = copy.deepcopy(model.state_dict())\n",
    "    best_acc = 0.0\n",
    "\n",
    "    for epoch in range(num_epochs):\n",
    "        print('Epoch {}/{}'.format(epoch, num_epochs - 1))\n",
    "        print('-' * 10)\n",
    "\n",
    "        # Each epoch has a training and validation phase\n",
    "        for phase in ['train', 'val']:\n",
    "            if phase == 'train':\n",
    "                model.train()  # Set model to training mode\n",
    "                dataload = train_loader\n",
    "                datasize = len(train_loader)\n",
    "            else:\n",
    "                model.eval()   # Set model to evaluate mode\n",
    "                dataload = validation_loader\n",
    "                datasize = len(validation_loader)\n",
    "\n",
    "            running_loss = 0.0\n",
    "            running_corrects = 0\n",
    "            running_exp = 0\n",
    "            # Iterate over data.\n",
    "            for inputs, labels in tqdm.tqdm(dataload):\n",
    "                inputs = inputs.to(device)\n",
    "                labels = labels.to(device)\n",
    "\n",
    "                # zero the parameter gradients\n",
    "                optimizer.zero_grad()\n",
    "\n",
    "                # forward\n",
    "                # track history if only in train\n",
    "                with torch.set_grad_enabled(phase == 'train'):\n",
    "                    outputs = model(inputs)\n",
    "                    _, preds = torch.max(outputs, 1)\n",
    "                    target = labels.squeeze()\n",
    "                    if not target.size():\n",
    "                        target = labels.view(-1)\n",
    "                    loss = criterion(outputs, target)                    \n",
    "\n",
    "                    # backward + optimize only if in training phase\n",
    "                    if phase == 'train':\n",
    "                        loss.backward()\n",
    "                        optimizer.step()\n",
    "\n",
    "                # statistics\n",
    "                running_loss += loss.item() * inputs.size(0)\n",
    "                running_corrects += torch.sum(preds == target.data)\n",
    "                running_exp += torch.sum(preds == preds)\n",
    "            if phase == 'train':\n",
    "                scheduler.step()\n",
    "\n",
    "            epoch_loss = running_loss / running_exp.double()\n",
    "            epoch_acc = running_corrects.double() / running_exp.double()\n",
    "\n",
    "            print('{} Loss: {:.4f} Acc: {:.4f}'.format(\n",
    "                phase, epoch_loss, epoch_acc))\n",
    "\n",
    "            # deep copy the model\n",
    "            if phase == 'val' and epoch_acc > best_acc:\n",
    "                best_acc = epoch_acc\n",
    "                best_model_wts = copy.deepcopy(model.state_dict())\n",
    "\n",
    "        print()\n",
    "\n",
    "    time_elapsed = time.time() - since\n",
    "    print('Training complete in {:.0f}m {:.0f}s'.format(\n",
    "        time_elapsed // 60, time_elapsed % 60))\n",
    "    print('Best val Acc: {:4f}'.format(best_acc))\n",
    "\n",
    "    # load best model weights\n",
    "    model.load_state_dict(best_model_wts)\n",
    "    return model"
   ]
  },
  {
   "cell_type": "code",
   "execution_count": 84,
   "metadata": {},
   "outputs": [
    {
     "name": "stdout",
     "output_type": "stream",
     "text": [
      "Epoch 0/9\n",
      "----------\n"
     ]
    },
    {
     "name": "stderr",
     "output_type": "stream",
     "text": [
      "100%|██████████████████████████████████████████████████████████████████████████████████| 46/46 [00:03<00:00, 14.10it/s]\n"
     ]
    },
    {
     "name": "stdout",
     "output_type": "stream",
     "text": [
      "train Loss: 1.9208 Acc: 0.3989\n"
     ]
    },
    {
     "name": "stderr",
     "output_type": "stream",
     "text": [
      "100%|████████████████████████████████████████████████████████████████████████████████████| 3/3 [00:00<00:00, 41.72it/s]\n"
     ]
    },
    {
     "name": "stdout",
     "output_type": "stream",
     "text": [
      "val Loss: 0.5871 Acc: 0.7778\n",
      "\n",
      "Epoch 1/9\n",
      "----------\n"
     ]
    },
    {
     "name": "stderr",
     "output_type": "stream",
     "text": [
      "100%|██████████████████████████████████████████████████████████████████████████████████| 46/46 [00:03<00:00, 14.05it/s]\n"
     ]
    },
    {
     "name": "stdout",
     "output_type": "stream",
     "text": [
      "train Loss: 1.3313 Acc: 0.5902\n"
     ]
    },
    {
     "name": "stderr",
     "output_type": "stream",
     "text": [
      "100%|████████████████████████████████████████████████████████████████████████████████████| 3/3 [00:00<00:00, 41.72it/s]\n"
     ]
    },
    {
     "name": "stdout",
     "output_type": "stream",
     "text": [
      "val Loss: 0.2771 Acc: 0.8889\n",
      "\n",
      "Epoch 2/9\n",
      "----------\n"
     ]
    },
    {
     "name": "stderr",
     "output_type": "stream",
     "text": [
      "100%|██████████████████████████████████████████████████████████████████████████████████| 46/46 [00:03<00:00, 13.97it/s]\n"
     ]
    },
    {
     "name": "stdout",
     "output_type": "stream",
     "text": [
      "train Loss: 1.0443 Acc: 0.6393\n"
     ]
    },
    {
     "name": "stderr",
     "output_type": "stream",
     "text": [
      "100%|████████████████████████████████████████████████████████████████████████████████████| 3/3 [00:00<00:00, 41.72it/s]\n"
     ]
    },
    {
     "name": "stdout",
     "output_type": "stream",
     "text": [
      "val Loss: 0.2946 Acc: 0.8889\n",
      "\n",
      "Epoch 3/9\n",
      "----------\n"
     ]
    },
    {
     "name": "stderr",
     "output_type": "stream",
     "text": [
      "100%|██████████████████████████████████████████████████████████████████████████████████| 46/46 [00:03<00:00, 14.05it/s]\n"
     ]
    },
    {
     "name": "stdout",
     "output_type": "stream",
     "text": [
      "train Loss: 0.7190 Acc: 0.7650\n"
     ]
    },
    {
     "name": "stderr",
     "output_type": "stream",
     "text": [
      "100%|████████████████████████████████████████████████████████████████████████████████████| 3/3 [00:00<00:00, 39.53it/s]\n"
     ]
    },
    {
     "name": "stdout",
     "output_type": "stream",
     "text": [
      "val Loss: 0.1227 Acc: 0.8889\n",
      "\n",
      "Epoch 4/9\n",
      "----------\n"
     ]
    },
    {
     "name": "stderr",
     "output_type": "stream",
     "text": [
      "100%|██████████████████████████████████████████████████████████████████████████████████| 46/46 [00:03<00:00, 14.15it/s]\n"
     ]
    },
    {
     "name": "stdout",
     "output_type": "stream",
     "text": [
      "train Loss: 0.8143 Acc: 0.7486\n"
     ]
    },
    {
     "name": "stderr",
     "output_type": "stream",
     "text": [
      "100%|████████████████████████████████████████████████████████████████████████████████████| 3/3 [00:00<00:00, 35.76it/s]\n"
     ]
    },
    {
     "name": "stdout",
     "output_type": "stream",
     "text": [
      "val Loss: 0.2352 Acc: 0.8889\n",
      "\n",
      "Epoch 5/9\n",
      "----------\n"
     ]
    },
    {
     "name": "stderr",
     "output_type": "stream",
     "text": [
      "100%|██████████████████████████████████████████████████████████████████████████████████| 46/46 [00:03<00:00, 14.06it/s]\n"
     ]
    },
    {
     "name": "stdout",
     "output_type": "stream",
     "text": [
      "train Loss: 0.5823 Acc: 0.8415\n"
     ]
    },
    {
     "name": "stderr",
     "output_type": "stream",
     "text": [
      "100%|████████████████████████████████████████████████████████████████████████████████████| 3/3 [00:00<00:00, 44.18it/s]\n"
     ]
    },
    {
     "name": "stdout",
     "output_type": "stream",
     "text": [
      "val Loss: 0.3019 Acc: 0.8889\n",
      "\n",
      "Epoch 6/9\n",
      "----------\n"
     ]
    },
    {
     "name": "stderr",
     "output_type": "stream",
     "text": [
      "100%|██████████████████████████████████████████████████████████████████████████████████| 46/46 [00:03<00:00, 14.17it/s]\n"
     ]
    },
    {
     "name": "stdout",
     "output_type": "stream",
     "text": [
      "train Loss: 0.5028 Acc: 0.8306\n"
     ]
    },
    {
     "name": "stderr",
     "output_type": "stream",
     "text": [
      "100%|████████████████████████████████████████████████████████████████████████████████████| 3/3 [00:00<00:00, 44.18it/s]\n"
     ]
    },
    {
     "name": "stdout",
     "output_type": "stream",
     "text": [
      "val Loss: 0.0281 Acc: 1.0000\n",
      "\n",
      "Epoch 7/9\n",
      "----------\n"
     ]
    },
    {
     "name": "stderr",
     "output_type": "stream",
     "text": [
      "100%|██████████████████████████████████████████████████████████████████████████████████| 46/46 [00:03<00:00, 14.15it/s]\n"
     ]
    },
    {
     "name": "stdout",
     "output_type": "stream",
     "text": [
      "train Loss: 0.3875 Acc: 0.9016\n"
     ]
    },
    {
     "name": "stderr",
     "output_type": "stream",
     "text": [
      "100%|████████████████████████████████████████████████████████████████████████████████████| 3/3 [00:00<00:00, 39.53it/s]\n"
     ]
    },
    {
     "name": "stdout",
     "output_type": "stream",
     "text": [
      "val Loss: 0.0308 Acc: 1.0000\n",
      "\n",
      "Epoch 8/9\n",
      "----------\n"
     ]
    },
    {
     "name": "stderr",
     "output_type": "stream",
     "text": [
      "100%|██████████████████████████████████████████████████████████████████████████████████| 46/46 [00:03<00:00, 14.08it/s]\n"
     ]
    },
    {
     "name": "stdout",
     "output_type": "stream",
     "text": [
      "train Loss: 0.2804 Acc: 0.9180\n"
     ]
    },
    {
     "name": "stderr",
     "output_type": "stream",
     "text": [
      "100%|████████████████████████████████████████████████████████████████████████████████████| 3/3 [00:00<00:00, 41.72it/s]\n"
     ]
    },
    {
     "name": "stdout",
     "output_type": "stream",
     "text": [
      "val Loss: 0.0675 Acc: 1.0000\n",
      "\n",
      "Epoch 9/9\n",
      "----------\n"
     ]
    },
    {
     "name": "stderr",
     "output_type": "stream",
     "text": [
      "100%|██████████████████████████████████████████████████████████████████████████████████| 46/46 [00:03<00:00, 14.04it/s]\n"
     ]
    },
    {
     "name": "stdout",
     "output_type": "stream",
     "text": [
      "train Loss: 0.2856 Acc: 0.9344\n"
     ]
    },
    {
     "name": "stderr",
     "output_type": "stream",
     "text": [
      "100%|████████████████████████████████████████████████████████████████████████████████████| 3/3 [00:00<00:00, 42.57it/s]\n"
     ]
    },
    {
     "name": "stdout",
     "output_type": "stream",
     "text": [
      "val Loss: 0.0553 Acc: 1.0000\n",
      "\n",
      "Training complete in 0m 34s\n",
      "Best val Acc: 1.000000\n"
     ]
    }
   ],
   "source": [
    "model_ft = models.resnet18(pretrained=True)\n",
    "num_ftrs = model_ft.fc.in_features\n",
    "# Here the size of each output sample is set to (num of classes)\n",
    "# Alternatively, it can be generalized to nn.Linear(num_ftrs, len(class_names)).\n",
    "model_ft.fc = nn.Linear(num_ftrs, nb_labels)\n",
    "\n",
    "model_ft = model_ft.to(device)\n",
    "\n",
    "criterion = nn.CrossEntropyLoss()\n",
    "\n",
    "# Observe that all parameters are being optimized\n",
    "optimizer_ft = optim.SGD(model_ft.parameters(), lr=0.001, momentum=0.9)\n",
    "\n",
    "# Decay LR by a factor of 0.1 every 7 epochs\n",
    "exp_lr_scheduler = lr_scheduler.StepLR(optimizer_ft, step_size=7, gamma=0.1)\n",
    "model_ft = train_model(model_ft, criterion, optimizer_ft, exp_lr_scheduler,\n",
    "                       num_epochs=10)"
   ]
  },
  {
   "cell_type": "code",
   "execution_count": 85,
   "metadata": {},
   "outputs": [
    {
     "name": "stdout",
     "output_type": "stream",
     "text": [
      "Epoch 0/9\n",
      "----------\n"
     ]
    },
    {
     "name": "stderr",
     "output_type": "stream",
     "text": [
      "100%|██████████████████████████████████████████████████████████████████████████████████| 46/46 [00:03<00:00, 14.60it/s]\n"
     ]
    },
    {
     "name": "stdout",
     "output_type": "stream",
     "text": [
      "train Loss: 0.3986 Acc: 0.8907\n"
     ]
    },
    {
     "name": "stderr",
     "output_type": "stream",
     "text": [
      "100%|████████████████████████████████████████████████████████████████████████████████████| 3/3 [00:00<00:00, 45.06it/s]\n"
     ]
    },
    {
     "name": "stdout",
     "output_type": "stream",
     "text": [
      "val Loss: 0.0551 Acc: 1.0000\n",
      "\n",
      "Epoch 1/9\n",
      "----------\n"
     ]
    },
    {
     "name": "stderr",
     "output_type": "stream",
     "text": [
      "100%|██████████████████████████████████████████████████████████████████████████████████| 46/46 [00:03<00:00, 14.61it/s]\n"
     ]
    },
    {
     "name": "stdout",
     "output_type": "stream",
     "text": [
      "train Loss: 0.2968 Acc: 0.9180\n"
     ]
    },
    {
     "name": "stderr",
     "output_type": "stream",
     "text": [
      "100%|████████████████████████████████████████████████████████████████████████████████████| 3/3 [00:00<00:00, 44.18it/s]\n"
     ]
    },
    {
     "name": "stdout",
     "output_type": "stream",
     "text": [
      "val Loss: 0.0298 Acc: 1.0000\n",
      "\n",
      "Epoch 2/9\n",
      "----------\n"
     ]
    },
    {
     "name": "stderr",
     "output_type": "stream",
     "text": [
      "100%|██████████████████████████████████████████████████████████████████████████████████| 46/46 [00:03<00:00, 14.77it/s]\n"
     ]
    },
    {
     "name": "stdout",
     "output_type": "stream",
     "text": [
      "train Loss: 0.1953 Acc: 0.9781\n"
     ]
    },
    {
     "name": "stderr",
     "output_type": "stream",
     "text": [
      "100%|████████████████████████████████████████████████████████████████████████████████████| 3/3 [00:00<00:00, 41.72it/s]\n"
     ]
    },
    {
     "name": "stdout",
     "output_type": "stream",
     "text": [
      "val Loss: 0.0521 Acc: 1.0000\n",
      "\n",
      "Epoch 3/9\n",
      "----------\n"
     ]
    },
    {
     "name": "stderr",
     "output_type": "stream",
     "text": [
      "100%|██████████████████████████████████████████████████████████████████████████████████| 46/46 [00:03<00:00, 14.80it/s]\n"
     ]
    },
    {
     "name": "stdout",
     "output_type": "stream",
     "text": [
      "train Loss: 0.2064 Acc: 0.9672\n"
     ]
    },
    {
     "name": "stderr",
     "output_type": "stream",
     "text": [
      "100%|████████████████████████████████████████████████████████████████████████████████████| 3/3 [00:00<00:00, 41.72it/s]\n"
     ]
    },
    {
     "name": "stdout",
     "output_type": "stream",
     "text": [
      "val Loss: 0.0432 Acc: 1.0000\n",
      "\n",
      "Epoch 4/9\n",
      "----------\n"
     ]
    },
    {
     "name": "stderr",
     "output_type": "stream",
     "text": [
      "100%|██████████████████████████████████████████████████████████████████████████████████| 46/46 [00:03<00:00, 14.65it/s]\n"
     ]
    },
    {
     "name": "stdout",
     "output_type": "stream",
     "text": [
      "train Loss: 0.3105 Acc: 0.9344\n"
     ]
    },
    {
     "name": "stderr",
     "output_type": "stream",
     "text": [
      "100%|████████████████████████████████████████████████████████████████████████████████████| 3/3 [00:00<00:00, 44.18it/s]\n"
     ]
    },
    {
     "name": "stdout",
     "output_type": "stream",
     "text": [
      "val Loss: 0.0314 Acc: 1.0000\n",
      "\n",
      "Epoch 5/9\n",
      "----------\n"
     ]
    },
    {
     "name": "stderr",
     "output_type": "stream",
     "text": [
      "100%|██████████████████████████████████████████████████████████████████████████████████| 46/46 [00:03<00:00, 14.66it/s]\n"
     ]
    },
    {
     "name": "stdout",
     "output_type": "stream",
     "text": [
      "train Loss: 0.1989 Acc: 0.9563\n"
     ]
    },
    {
     "name": "stderr",
     "output_type": "stream",
     "text": [
      "100%|████████████████████████████████████████████████████████████████████████████████████| 3/3 [00:00<00:00, 43.33it/s]\n"
     ]
    },
    {
     "name": "stdout",
     "output_type": "stream",
     "text": [
      "val Loss: 0.0385 Acc: 1.0000\n",
      "\n",
      "Epoch 6/9\n",
      "----------\n"
     ]
    },
    {
     "name": "stderr",
     "output_type": "stream",
     "text": [
      "100%|██████████████████████████████████████████████████████████████████████████████████| 46/46 [00:03<00:00, 14.43it/s]\n"
     ]
    },
    {
     "name": "stdout",
     "output_type": "stream",
     "text": [
      "train Loss: 0.2578 Acc: 0.9290\n"
     ]
    },
    {
     "name": "stderr",
     "output_type": "stream",
     "text": [
      "100%|████████████████████████████████████████████████████████████████████████████████████| 3/3 [00:00<00:00, 41.72it/s]\n"
     ]
    },
    {
     "name": "stdout",
     "output_type": "stream",
     "text": [
      "val Loss: 0.0346 Acc: 1.0000\n",
      "\n",
      "Epoch 7/9\n",
      "----------\n"
     ]
    },
    {
     "name": "stderr",
     "output_type": "stream",
     "text": [
      "100%|██████████████████████████████████████████████████████████████████████████████████| 46/46 [00:03<00:00, 14.53it/s]\n"
     ]
    },
    {
     "name": "stdout",
     "output_type": "stream",
     "text": [
      "train Loss: 0.2590 Acc: 0.9454\n"
     ]
    },
    {
     "name": "stderr",
     "output_type": "stream",
     "text": [
      "100%|████████████████████████████████████████████████████████████████████████████████████| 3/3 [00:00<00:00, 41.72it/s]\n"
     ]
    },
    {
     "name": "stdout",
     "output_type": "stream",
     "text": [
      "val Loss: 0.0419 Acc: 1.0000\n",
      "\n",
      "Epoch 8/9\n",
      "----------\n"
     ]
    },
    {
     "name": "stderr",
     "output_type": "stream",
     "text": [
      "100%|██████████████████████████████████████████████████████████████████████████████████| 46/46 [00:03<00:00, 14.53it/s]\n"
     ]
    },
    {
     "name": "stdout",
     "output_type": "stream",
     "text": [
      "train Loss: 0.3316 Acc: 0.9290\n"
     ]
    },
    {
     "name": "stderr",
     "output_type": "stream",
     "text": [
      "100%|████████████████████████████████████████████████████████████████████████████████████| 3/3 [00:00<00:00, 46.94it/s]\n"
     ]
    },
    {
     "name": "stdout",
     "output_type": "stream",
     "text": [
      "val Loss: 0.0291 Acc: 1.0000\n",
      "\n",
      "Epoch 9/9\n",
      "----------\n"
     ]
    },
    {
     "name": "stderr",
     "output_type": "stream",
     "text": [
      "100%|██████████████████████████████████████████████████████████████████████████████████| 46/46 [00:03<00:00, 14.58it/s]\n"
     ]
    },
    {
     "name": "stdout",
     "output_type": "stream",
     "text": [
      "train Loss: 0.1998 Acc: 0.9508\n"
     ]
    },
    {
     "name": "stderr",
     "output_type": "stream",
     "text": [
      "100%|████████████████████████████████████████████████████████████████████████████████████| 3/3 [00:00<00:00, 45.92it/s]\n"
     ]
    },
    {
     "name": "stdout",
     "output_type": "stream",
     "text": [
      "val Loss: 0.0577 Acc: 1.0000\n",
      "\n",
      "Training complete in 0m 33s\n",
      "Best val Acc: 1.000000\n"
     ]
    }
   ],
   "source": [
    "model_ft = train_model(model_ft, criterion, optimizer_ft, exp_lr_scheduler,\n",
    "                       num_epochs=10)"
   ]
  },
  {
   "cell_type": "markdown",
   "metadata": {},
   "source": [
    "Save model"
   ]
  },
  {
   "cell_type": "code",
   "execution_count": 86,
   "metadata": {},
   "outputs": [
    {
     "name": "stderr",
     "output_type": "stream",
     "text": [
      "C:\\Users\\44754\\Anaconda3\\lib\\site-packages\\torch\\serialization.py:292: UserWarning: Couldn't retrieve source code for container of type ResNet. It won't be checked for correctness upon loading.\n",
      "  \"type \" + obj.__name__ + \". It won't be checked \"\n",
      "C:\\Users\\44754\\Anaconda3\\lib\\site-packages\\torch\\serialization.py:292: UserWarning: Couldn't retrieve source code for container of type Conv2d. It won't be checked for correctness upon loading.\n",
      "  \"type \" + obj.__name__ + \". It won't be checked \"\n",
      "C:\\Users\\44754\\Anaconda3\\lib\\site-packages\\torch\\serialization.py:292: UserWarning: Couldn't retrieve source code for container of type BatchNorm2d. It won't be checked for correctness upon loading.\n",
      "  \"type \" + obj.__name__ + \". It won't be checked \"\n",
      "C:\\Users\\44754\\Anaconda3\\lib\\site-packages\\torch\\serialization.py:292: UserWarning: Couldn't retrieve source code for container of type ReLU. It won't be checked for correctness upon loading.\n",
      "  \"type \" + obj.__name__ + \". It won't be checked \"\n",
      "C:\\Users\\44754\\Anaconda3\\lib\\site-packages\\torch\\serialization.py:292: UserWarning: Couldn't retrieve source code for container of type MaxPool2d. It won't be checked for correctness upon loading.\n",
      "  \"type \" + obj.__name__ + \". It won't be checked \"\n",
      "C:\\Users\\44754\\Anaconda3\\lib\\site-packages\\torch\\serialization.py:292: UserWarning: Couldn't retrieve source code for container of type Sequential. It won't be checked for correctness upon loading.\n",
      "  \"type \" + obj.__name__ + \". It won't be checked \"\n",
      "C:\\Users\\44754\\Anaconda3\\lib\\site-packages\\torch\\serialization.py:292: UserWarning: Couldn't retrieve source code for container of type BasicBlock. It won't be checked for correctness upon loading.\n",
      "  \"type \" + obj.__name__ + \". It won't be checked \"\n",
      "C:\\Users\\44754\\Anaconda3\\lib\\site-packages\\torch\\serialization.py:292: UserWarning: Couldn't retrieve source code for container of type AdaptiveAvgPool2d. It won't be checked for correctness upon loading.\n",
      "  \"type \" + obj.__name__ + \". It won't be checked \"\n",
      "C:\\Users\\44754\\Anaconda3\\lib\\site-packages\\torch\\serialization.py:292: UserWarning: Couldn't retrieve source code for container of type Linear. It won't be checked for correctness upon loading.\n",
      "  \"type \" + obj.__name__ + \". It won't be checked \"\n"
     ]
    }
   ],
   "source": [
    "torch.save(model_ft, os.path.join(os.getcwd(),'card1.pt'))"
   ]
  },
  {
   "cell_type": "code",
   "execution_count": null,
   "metadata": {},
   "outputs": [],
   "source": []
  }
 ],
 "metadata": {
  "kernelspec": {
   "display_name": "Python 3",
   "language": "python",
   "name": "python3"
  },
  "language_info": {
   "codemirror_mode": {
    "name": "ipython",
    "version": 3
   },
   "file_extension": ".py",
   "mimetype": "text/x-python",
   "name": "python",
   "nbconvert_exporter": "python",
   "pygments_lexer": "ipython3",
   "version": "3.7.4"
  }
 },
 "nbformat": 4,
 "nbformat_minor": 2
}
